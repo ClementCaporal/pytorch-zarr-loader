{
 "cells": [
  {
   "cell_type": "code",
   "execution_count": 18,
   "metadata": {},
   "outputs": [],
   "source": [
    "import numpy as np\n",
    "import zarr\n",
    "import os\n",
    "\n",
    "from skimage.data import binary_blobs\n",
    "from ome_zarr.io import parse_url\n",
    "from ome_zarr.writer import write_image"
   ]
  },
  {
   "cell_type": "code",
   "execution_count": 22,
   "metadata": {},
   "outputs": [],
   "source": [
    "\n",
    "path = \"./data/aymanns/test_zarr/test_ngff_image.zarr\"\n",
    "os.makedirs(path, exist_ok=True)"
   ]
  },
  {
   "cell_type": "code",
   "execution_count": 23,
   "metadata": {},
   "outputs": [],
   "source": [
    "mean_val=10\n",
    "size_xy = 512\n",
    "size_z = 100\n",
    "rng = np.random.default_rng(0)\n",
    "data = rng.poisson(mean_val, size=(size_z, size_xy, size_xy)).astype(np.uint8)"
   ]
  },
  {
   "cell_type": "code",
   "execution_count": 24,
   "metadata": {},
   "outputs": [],
   "source": [
    "# write the image data\n",
    "store = parse_url(path, mode=\"w\").store\n",
    "root = zarr.group(store=store)\n",
    "write_image(image=data, group=root, axes=\"zyx\", storage_options=dict(chunks=(1, size_xy, size_xy)))\n",
    "# optional rendering settings\n",
    "root.attrs[\"omero\"] = {\n",
    "    \"channels\": [{\n",
    "        \"color\": \"00FFFF\",\n",
    "        \"window\": {\"start\": 0, \"end\": 20, \"min\": 0, \"max\": 255},\n",
    "        \"label\": \"random\",\n",
    "        \"active\": True,\n",
    "    }]\n",
    "}"
   ]
  },
  {
   "cell_type": "code",
   "execution_count": 25,
   "metadata": {},
   "outputs": [],
   "source": [
    "# add labels...\n",
    "blobs = binary_blobs(length=size_xy, volume_fraction=0.1, n_dim=3).astype('int8')\n",
    "blobs2 = binary_blobs(length=size_xy, volume_fraction=0.1, n_dim=3).astype('int8')\n",
    "# blobs will contain values of 1, 2 and 0 (background)\n",
    "blobs += 2 * blobs2\n",
    "\n",
    "# label.shape is (size_xy, size_xy, size_xy), Slice to match the data\n",
    "label = blobs[:size_z, :, :]"
   ]
  },
  {
   "cell_type": "code",
   "execution_count": 26,
   "metadata": {},
   "outputs": [],
   "source": [
    "# write the labels to /labels\n",
    "labels_grp = root.create_group(\"labels\")\n",
    "# the 'labels' .zattrs lists the named labels data\n",
    "label_name = \"blobs\"\n",
    "labels_grp.attrs[\"labels\"] = [label_name]\n",
    "label_grp = labels_grp.create_group(label_name)\n",
    "# need 'image-label' attr to be recognized as label\n",
    "label_grp.attrs[\"image-label\"] = {\n",
    "    \"colors\": [\n",
    "        {\"label-value\": 1, \"rgba\": [255, 0, 0, 255]},\n",
    "        {\"label-value\": 2, \"rgba\": [0, 255, 0, 255]},\n",
    "        {\"label-value\": 3, \"rgba\": [255, 255, 0, 255]}\n",
    "    ]\n",
    "}"
   ]
  },
  {
   "cell_type": "code",
   "execution_count": 27,
   "metadata": {},
   "outputs": [
    {
     "data": {
      "text/plain": [
       "[]"
      ]
     },
     "execution_count": 27,
     "metadata": {},
     "output_type": "execute_result"
    }
   ],
   "source": [
    "write_image(label, label_grp, axes=\"zyx\")"
   ]
  },
  {
   "cell_type": "code",
   "execution_count": null,
   "metadata": {},
   "outputs": [],
   "source": []
  }
 ],
 "metadata": {
  "kernelspec": {
   "display_name": "pytorch-2d-unet",
   "language": "python",
   "name": "python3"
  },
  "language_info": {
   "codemirror_mode": {
    "name": "ipython",
    "version": 3
   },
   "file_extension": ".py",
   "mimetype": "text/x-python",
   "name": "python",
   "nbconvert_exporter": "python",
   "pygments_lexer": "ipython3",
   "version": "3.9.17"
  }
 },
 "nbformat": 4,
 "nbformat_minor": 2
}
