{
 "cells": [
  {
   "cell_type": "code",
   "execution_count": null,
   "metadata": {},
   "outputs": [],
   "source": [
    "import numpy as np\n",
    "import zarr\n",
    "import os\n",
    "\n",
    "from skimage.data import binary_blobs\n",
    "from ome_zarr.io import parse_url\n",
    "from ome_zarr.writer import write_image\n",
    "import dask.array as da"
   ]
  },
  {
   "cell_type": "code",
   "execution_count": null,
   "metadata": {},
   "outputs": [],
   "source": [
    "random_img = da.random.random((1000, 1000, 10000), chunks=(100, 100, 100))\n",
    "random_img"
   ]
  },
  {
   "cell_type": "code",
   "execution_count": null,
   "metadata": {},
   "outputs": [],
   "source": [
    "from pathlib import Path\n",
    "test_path = Path('.') / 'data' / 'huge.zarr'\n",
    "\n",
    "os.makedirs(test_path, exist_ok=True)"
   ]
  },
  {
   "cell_type": "code",
   "execution_count": null,
   "metadata": {},
   "outputs": [],
   "source": [
    "# write the image data\n",
    "store = parse_url(test_path, mode=\"w\").store\n",
    "root = zarr.group(store=store)\n",
    "write_image(image=random_img, group=root, axes=\"zyx\", storage_options=dict(chunks=(100, 100, 100)))\n",
    "# optional rendering settings\n",
    "root.attrs[\"omero\"] = {\n",
    "    \"channels\": [{\n",
    "        \"color\": \"00FFFF\",\n",
    "        \"window\": {\"start\": 0, \"end\": 20, \"min\": 0, \"max\": 255},\n",
    "        \"label\": \"random\",\n",
    "        \"active\": True,\n",
    "    }]\n",
    "}"
   ]
  },
  {
   "cell_type": "code",
   "execution_count": 3,
   "metadata": {},
   "outputs": [],
   "source": [
    "# Do the same thing but saving as tif\n",
    "import tifffile\n",
    "from pathlib import Path\n",
    "import dask.array as da\n",
    "import os\n",
    "\n",
    "random_img = da.random.random((1000, 1000, 10000), chunks=(100, 100, 100))\n",
    "\n",
    "test_path = Path('.') / 'data' / 'many_tif'\n",
    "\n",
    "os.makedirs(test_path, exist_ok=True)\n",
    "\n",
    "for i in range(random_img.shape[2]):\n",
    "    tifffile.imwrite(test_path / f'{i}.tif', random_img[:, :, i].compute())"
   ]
  }
 ],
 "metadata": {
  "kernelspec": {
   "display_name": "pytorch-2d-unet",
   "language": "python",
   "name": "python3"
  },
  "language_info": {
   "codemirror_mode": {
    "name": "ipython",
    "version": 3
   },
   "file_extension": ".py",
   "mimetype": "text/x-python",
   "name": "python",
   "nbconvert_exporter": "python",
   "pygments_lexer": "ipython3",
   "version": "3.11.6"
  }
 },
 "nbformat": 4,
 "nbformat_minor": 2
}
