{
 "cells": [
  {
   "cell_type": "markdown",
   "metadata": {},
   "source": [
    "# ZARR reading\n",
    "\n",
    "[Link to example dataset](https://imagesc.zulipchat.com/user_uploads/16804/85qPFC9O85gLhNmF5KLdqtUx/bsd_val.zarr.zip) - copy it under `./data/` and unzip it.\n"
   ]
  },
  {
   "cell_type": "code",
   "execution_count": null,
   "metadata": {},
   "outputs": [],
   "source": [
    "from itertools import islice\n",
    "from pathlib import Path\n",
    "from typing import List, Tuple, Union, Optional, Callable, Dict, Generator\n",
    "\n",
    "import numpy as np\n",
    "import zarr\n",
    "import time\n",
    "import sys\n",
    "\n",
    "from torch.utils.data import DataLoader, IterableDataset, get_worker_info"
   ]
  },
  {
   "cell_type": "code",
   "execution_count": 120,
   "metadata": {},
   "outputs": [],
   "source": [
    "def extract_patches_random(arr: np.ndarray,\n",
    "                           patch_size: Union[List[int], Tuple[int]]\n",
    ") -> Generator[np.ndarray, None, None]:\n",
    "    \"\"\"\n",
    "    Generate patches from an array in a random manner.\n",
    "\n",
    "    The method calculates how many patches the image can be divided into and then\n",
    "    extracts an equal number of random patches.\n",
    "\n",
    "    Parameters\n",
    "    ----------\n",
    "    arr : np.ndarray\n",
    "        Input image array.\n",
    "    patch_size : Tuple[int]\n",
    "        Patch sizes in each dimension.\n",
    "\n",
    "    Yields\n",
    "    ------\n",
    "    Generator[np.ndarray, None, None]\n",
    "        Generator of patches.\n",
    "    \"\"\"\n",
    "\n",
    "    rng = np.random.default_rng()\n",
    "\n",
    "    n_patches_per_slice = np.ceil(np.prod(arr.shape[1:]) / np.prod(patch_size)).astype(\n",
    "        int\n",
    "    )\n",
    "    crop_coords = rng.integers(\n",
    "        0,\n",
    "        np.array(arr.shape[-len(patch_size):]) - np.array(patch_size),\n",
    "        size=(arr.shape[0], n_patches_per_slice, len(patch_size)),\n",
    "    )\n",
    "    for slice_idx in range(crop_coords.shape[0]):\n",
    "        sample = arr[slice_idx]\n",
    "        for patch_idx in range(crop_coords.shape[1]):\n",
    "            patch = sample[\n",
    "                    crop_coords[slice_idx, patch_idx, 0]: crop_coords[\n",
    "                                                              slice_idx, patch_idx, 0\n",
    "                                                          ]\n",
    "                                                          + patch_size[0],\n",
    "                    crop_coords[slice_idx, patch_idx, 1]: crop_coords[\n",
    "                                                              slice_idx, patch_idx, 1\n",
    "                                                          ]\n",
    "                                                          + patch_size[1],\n",
    "                    ]\n",
    "            yield patch"
   ]
  },
  {
   "cell_type": "code",
   "execution_count": 121,
   "metadata": {},
   "outputs": [],
   "source": [
    "class ZarrDataset(IterableDataset):\n",
    "    \"\"\"Dataset to extract patches from a zarr storage.\"\"\"\n",
    "\n",
    "    def __init__(\n",
    "            self,\n",
    "            data_path: Union[str, Path],\n",
    "            patch_extraction_method: str,\n",
    "            patch_size: Optional[Union[List[int], Tuple[int]]] = None,\n",
    "            num_patches: Optional[int] = None,\n",
    "            mean: Optional[float] = None,\n",
    "            std: Optional[float] = None,\n",
    "            patch_transform: Optional[Callable] = None,\n",
    "            patch_transform_params: Optional[Dict] = None,\n",
    "    ) -> None:\n",
    "        self.data_path = Path(data_path)\n",
    "        self.patch_extraction_method = patch_extraction_method\n",
    "        self.patch_size = patch_size\n",
    "        self.num_patches = num_patches\n",
    "        self.mean = mean\n",
    "        self.std = std\n",
    "        self.patch_transform = patch_transform\n",
    "        self.patch_transform_params = patch_transform_params\n",
    "\n",
    "        self.sample = zarr.open(data_path, mode=\"r\")\n",
    "\n",
    "    def _generate_patches(self):\n",
    "        patches = extract_patches_random(\n",
    "            self.sample,\n",
    "            self.patch_size,\n",
    "        )\n",
    "\n",
    "        for idx, patch in enumerate(patches):\n",
    "\n",
    "            if isinstance(patch, tuple):\n",
    "                patch = (patch, *patch[1:])\n",
    "            else:\n",
    "                patch = patch\n",
    "\n",
    "            if self.patch_transform is not None:\n",
    "                assert self.patch_transform_params is not None\n",
    "                patch = self.patch_transform(patch, **self.patch_transform_params)\n",
    "            if self.num_patches is not None and idx >= self.num_patches:\n",
    "                return\n",
    "            else:\n",
    "                yield patch\n",
    "\n",
    "    def __iter__(self):\n",
    "        \"\"\"\n",
    "        Iterate over data source and yield single patch.\n",
    "\n",
    "        Yields\n",
    "        ------\n",
    "        np.ndarray\n",
    "        \"\"\"\n",
    "        worker_info = get_worker_info()\n",
    "        worker_id = worker_info.id if worker_info is not None else 0\n",
    "        num_workers = worker_info.num_workers if worker_info is not None else 1\n",
    "        yield from islice(self._generate_patches(), 0, None, num_workers)\n",
    "\n",
    "def train_loop(dataloader: DataLoader):\n",
    "    for i, batch in enumerate(dataloader):\n",
    "        pass"
   ]
  },
  {
   "cell_type": "code",
   "execution_count": 123,
   "metadata": {},
   "outputs": [],
   "source": [
    "test_path = Path('.') / 'data' / 'bsd_val.zarr' \n",
    "train_path_fast = '/localscratch/bsd_train.zarr/'\n",
    "\n",
    "patch_size = (64, 64)\n",
    "\n",
    "dataset = ZarrDataset(\n",
    "    data_path=test_path,\n",
    "    patch_extraction_method='random',\n",
    "    patch_size=patch_size,\n",
    ")\n",
    "\n",
    "dl = DataLoader(dataset, batch_size=128, num_workers=0)\n",
    "\n"
   ]
  },
  {
   "cell_type": "code",
   "execution_count": 124,
   "metadata": {},
   "outputs": [
    {
     "name": "stdout",
     "output_type": "stream",
     "text": [
      "Average time: 0.000us/step\n"
     ]
    }
   ],
   "source": [
    "times = []\n",
    "\n",
    "for i, batch in enumerate(dl):\n",
    "    start = time.time()\n",
    "    b = batch.shape\n",
    "    cur_time = time.time() - start\n",
    "    times.append(cur_time)\n",
    "    info = f\" {cur_time * 1e6:.3f}us/step\"\n",
    "\n",
    "    print(info, end='\\r')\n",
    "\n",
    "print(f\"Average time: {np.mean(times) * 1e6:.3f}us/step\")"
   ]
  },
  {
   "cell_type": "code",
   "execution_count": 127,
   "metadata": {},
   "outputs": [],
   "source": [
    "from timeit import timeit, time"
   ]
  },
  {
   "cell_type": "code",
   "execution_count": 128,
   "metadata": {},
   "outputs": [
    {
     "data": {
      "text/plain": [
       "0.08461117744445801"
      ]
     },
     "execution_count": 128,
     "metadata": {},
     "output_type": "execute_result"
    }
   ],
   "source": [
    "# turn previous for loop into function for timeit to work\n",
    "def iterate_dl(dl):\n",
    "    timer = time.time()\n",
    "    for i, batch in enumerate(dl):\n",
    "        start = time.time()\n",
    "        b = batch.shape\n",
    "    return (time.time() - timer)/(i + 1)\n",
    "\n",
    "# timeit and add counter of iterations\n",
    "iterate_dl(dl)"
   ]
  },
  {
   "cell_type": "code",
   "execution_count": null,
   "metadata": {},
   "outputs": [],
   "source": []
  }
 ],
 "metadata": {
  "kernelspec": {
   "display_name": "Python 3.9.13 ('HDNn')",
   "language": "python",
   "name": "python3"
  },
  "language_info": {
   "codemirror_mode": {
    "name": "ipython",
    "version": 3
   },
   "file_extension": ".py",
   "mimetype": "text/x-python",
   "name": "python",
   "nbconvert_exporter": "python",
   "pygments_lexer": "ipython3",
   "version": "3.9.17"
  },
  "vscode": {
   "interpreter": {
    "hash": "faf8b084d52efbff00ddf863c4fb0ca7a3b023f9f18590a5b65c31dc02d793e2"
   }
  }
 },
 "nbformat": 4,
 "nbformat_minor": 2
}
