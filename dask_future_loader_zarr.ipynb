{
 "cells": [
  {
   "cell_type": "markdown",
   "metadata": {},
   "source": [
    "# ZARR reading with Dask Client and future"
   ]
  },
  {
   "cell_type": "code",
   "execution_count": 1,
   "metadata": {},
   "outputs": [],
   "source": [
    "import dask.array as da\n",
    "\n",
    "online_path = \"https://uk1s3.embassy.ebi.ac.uk/idr/zarr/v0.4/idr0062A/6001240.zarr/0\"\n",
    "local_path = \"data/6001240.zarr\""
   ]
  },
  {
   "cell_type": "code",
   "execution_count": 2,
   "metadata": {},
   "outputs": [
    {
     "data": {
      "text/html": [
       "<table>\n",
       "    <tr>\n",
       "        <td>\n",
       "            <table style=\"border-collapse: collapse;\">\n",
       "                <thead>\n",
       "                    <tr>\n",
       "                        <td> </td>\n",
       "                        <th> Array </th>\n",
       "                        <th> Chunk </th>\n",
       "                    </tr>\n",
       "                </thead>\n",
       "                <tbody>\n",
       "                    \n",
       "                    <tr>\n",
       "                        <th> Bytes </th>\n",
       "                        <td> 67.09 MiB </td>\n",
       "                        <td> 0.95 MiB </td>\n",
       "                    </tr>\n",
       "                    \n",
       "                    <tr>\n",
       "                        <th> Shape </th>\n",
       "                        <td> (2, 236, 275, 271) </td>\n",
       "                        <td> (1, 50, 100, 100) </td>\n",
       "                    </tr>\n",
       "                    <tr>\n",
       "                        <th> Dask graph </th>\n",
       "                        <td colspan=\"2\"> 90 chunks in 5 graph layers </td>\n",
       "                    </tr>\n",
       "                    <tr>\n",
       "                        <th> Data type </th>\n",
       "                        <td colspan=\"2\"> int16 numpy.ndarray </td>\n",
       "                    </tr>\n",
       "                </tbody>\n",
       "            </table>\n",
       "        </td>\n",
       "        <td>\n",
       "        <svg width=\"418\" height=\"230\" style=\"stroke:rgb(0,0,0);stroke-width:1\" >\n",
       "\n",
       "  <!-- Horizontal lines -->\n",
       "  <line x1=\"0\" y1=\"0\" x2=\"25\" y2=\"0\" style=\"stroke-width:2\" />\n",
       "  <line x1=\"0\" y1=\"25\" x2=\"25\" y2=\"25\" style=\"stroke-width:2\" />\n",
       "\n",
       "  <!-- Vertical lines -->\n",
       "  <line x1=\"0\" y1=\"0\" x2=\"0\" y2=\"25\" style=\"stroke-width:2\" />\n",
       "  <line x1=\"12\" y1=\"0\" x2=\"12\" y2=\"25\" />\n",
       "  <line x1=\"25\" y1=\"0\" x2=\"25\" y2=\"25\" style=\"stroke-width:2\" />\n",
       "\n",
       "  <!-- Colored Rectangle -->\n",
       "  <polygon points=\"0.0,0.0 25.412616514582485,0.0 25.412616514582485,25.412616514582485 0.0,25.412616514582485\" style=\"fill:#ECB172A0;stroke-width:0\"/>\n",
       "\n",
       "  <!-- Text -->\n",
       "  <text x=\"12.706308\" y=\"45.412617\" font-size=\"1.0rem\" font-weight=\"100\" text-anchor=\"middle\" >2</text>\n",
       "  <text x=\"45.412617\" y=\"12.706308\" font-size=\"1.0rem\" font-weight=\"100\" text-anchor=\"middle\" transform=\"rotate(0,45.412617,12.706308)\">1</text>\n",
       "\n",
       "\n",
       "  <!-- Horizontal lines -->\n",
       "  <line x1=\"95\" y1=\"0\" x2=\"155\" y2=\"60\" style=\"stroke-width:2\" />\n",
       "  <line x1=\"95\" y1=\"43\" x2=\"155\" y2=\"104\" />\n",
       "  <line x1=\"95\" y1=\"87\" x2=\"155\" y2=\"147\" />\n",
       "  <line x1=\"95\" y1=\"120\" x2=\"155\" y2=\"180\" style=\"stroke-width:2\" />\n",
       "\n",
       "  <!-- Vertical lines -->\n",
       "  <line x1=\"95\" y1=\"0\" x2=\"95\" y2=\"120\" style=\"stroke-width:2\" />\n",
       "  <line x1=\"107\" y1=\"12\" x2=\"107\" y2=\"132\" />\n",
       "  <line x1=\"120\" y1=\"25\" x2=\"120\" y2=\"145\" />\n",
       "  <line x1=\"133\" y1=\"38\" x2=\"133\" y2=\"158\" />\n",
       "  <line x1=\"146\" y1=\"51\" x2=\"146\" y2=\"171\" />\n",
       "  <line x1=\"155\" y1=\"60\" x2=\"155\" y2=\"180\" style=\"stroke-width:2\" />\n",
       "\n",
       "  <!-- Colored Rectangle -->\n",
       "  <polygon points=\"95.0,0.0 155.57754010695186,60.57754010695187 155.57754010695186,180.57754010695186 95.0,120.0\" style=\"fill:#ECB172A0;stroke-width:0\"/>\n",
       "\n",
       "  <!-- Horizontal lines -->\n",
       "  <line x1=\"95\" y1=\"0\" x2=\"213\" y2=\"0\" style=\"stroke-width:2\" />\n",
       "  <line x1=\"107\" y1=\"12\" x2=\"226\" y2=\"12\" />\n",
       "  <line x1=\"120\" y1=\"25\" x2=\"238\" y2=\"25\" />\n",
       "  <line x1=\"133\" y1=\"38\" x2=\"251\" y2=\"38\" />\n",
       "  <line x1=\"146\" y1=\"51\" x2=\"264\" y2=\"51\" />\n",
       "  <line x1=\"155\" y1=\"60\" x2=\"273\" y2=\"60\" style=\"stroke-width:2\" />\n",
       "\n",
       "  <!-- Vertical lines -->\n",
       "  <line x1=\"95\" y1=\"0\" x2=\"155\" y2=\"60\" style=\"stroke-width:2\" />\n",
       "  <line x1=\"138\" y1=\"0\" x2=\"199\" y2=\"60\" />\n",
       "  <line x1=\"182\" y1=\"0\" x2=\"242\" y2=\"60\" />\n",
       "  <line x1=\"213\" y1=\"0\" x2=\"273\" y2=\"60\" style=\"stroke-width:2\" />\n",
       "\n",
       "  <!-- Colored Rectangle -->\n",
       "  <polygon points=\"95.0,0.0 213.25454545454545,0.0 273.8320855614973,60.57754010695187 155.57754010695186,60.57754010695187\" style=\"fill:#ECB172A0;stroke-width:0\"/>\n",
       "\n",
       "  <!-- Horizontal lines -->\n",
       "  <line x1=\"155\" y1=\"60\" x2=\"273\" y2=\"60\" style=\"stroke-width:2\" />\n",
       "  <line x1=\"155\" y1=\"104\" x2=\"273\" y2=\"104\" />\n",
       "  <line x1=\"155\" y1=\"147\" x2=\"273\" y2=\"147\" />\n",
       "  <line x1=\"155\" y1=\"180\" x2=\"273\" y2=\"180\" style=\"stroke-width:2\" />\n",
       "\n",
       "  <!-- Vertical lines -->\n",
       "  <line x1=\"155\" y1=\"60\" x2=\"155\" y2=\"180\" style=\"stroke-width:2\" />\n",
       "  <line x1=\"199\" y1=\"60\" x2=\"199\" y2=\"180\" />\n",
       "  <line x1=\"242\" y1=\"60\" x2=\"242\" y2=\"180\" />\n",
       "  <line x1=\"273\" y1=\"60\" x2=\"273\" y2=\"180\" style=\"stroke-width:2\" />\n",
       "\n",
       "  <!-- Colored Rectangle -->\n",
       "  <polygon points=\"155.57754010695186,60.57754010695187 273.8320855614973,60.57754010695187 273.8320855614973,180.57754010695186 155.57754010695186,180.57754010695186\" style=\"fill:#ECB172A0;stroke-width:0\"/>\n",
       "\n",
       "  <!-- Text -->\n",
       "  <text x=\"214.704813\" y=\"200.577540\" font-size=\"1.0rem\" font-weight=\"100\" text-anchor=\"middle\" >271</text>\n",
       "  <text x=\"293.832086\" y=\"120.577540\" font-size=\"1.0rem\" font-weight=\"100\" text-anchor=\"middle\" transform=\"rotate(-90,293.832086,120.577540)\">275</text>\n",
       "  <text x=\"115.288770\" y=\"170.288770\" font-size=\"1.0rem\" font-weight=\"100\" text-anchor=\"middle\" transform=\"rotate(45,115.288770,170.288770)\">236</text>\n",
       "</svg>\n",
       "        </td>\n",
       "    </tr>\n",
       "</table>"
      ],
      "text/plain": [
       "dask.array<astype, shape=(2, 236, 275, 271), dtype=int16, chunksize=(1, 50, 100, 100), chunktype=numpy.ndarray>"
      ]
     },
     "execution_count": 2,
     "metadata": {},
     "output_type": "execute_result"
    }
   ],
   "source": [
    "data = da.from_zarr(online_path).rechunk((1, 50, 100, 100)).astype('int16')\n",
    "data"
   ]
  },
  {
   "cell_type": "code",
   "execution_count": 3,
   "metadata": {},
   "outputs": [],
   "source": [
    "data.to_zarr(local_path)"
   ]
  },
  {
   "cell_type": "code",
   "execution_count": 4,
   "metadata": {},
   "outputs": [],
   "source": [
    "patch_size = (2, 10, 64, 64)\n",
    "small_slice = tuple([slice(0, i) for i in patch_size])"
   ]
  },
  {
   "cell_type": "code",
   "execution_count": 5,
   "metadata": {},
   "outputs": [],
   "source": [
    "\n",
    "from itertools import islice\n",
    "from pathlib import Path\n",
    "from typing import List, Tuple, Union, Optional, Callable, Dict, Generator\n",
    "import time\n",
    "import numpy as np\n",
    "import zarr\n",
    "from torch.utils.data import DataLoader, IterableDataset, get_worker_info\n",
    "from dask.distributed import Client, get_client\n",
    "\n",
    "from timeit import timeit, time\n"
   ]
  },
  {
   "cell_type": "code",
   "execution_count": 6,
   "metadata": {},
   "outputs": [],
   "source": [
    "import numpy as np\n",
    "from typing import List, Tuple, Union\n",
    "import dask\n",
    "\n",
    "\n",
    "@dask.delayed\n",
    "def load_zarr(arr: np.ndarray,\n",
    "              patch_positions,\n",
    "              patch_size: Union[List[int], Tuple[int, ...]]\n",
    "              ) -> np.ndarray:\n",
    "\n",
    "\n",
    "    # create slices for each dimension\n",
    "    slices = []\n",
    "    for i, (center, dimension) in enumerate(zip(patch_positions, patch_size)):\n",
    "        if center is None:\n",
    "            slices.append(slice(None))\n",
    "        else:\n",
    "            slices.append(slice(center, center + dimension))\n",
    "\n",
    "    # load patch\n",
    "    patch = arr[tuple(slices)]\n",
    "    return patch\n",
    "\n",
    "def extract_patches_random(arr: np.ndarray,\n",
    "                           patch_size: Union[List[int], Tuple[int, ...]],\n",
    "                           num_patches: int) -> List[np.ndarray]:\n",
    "    \"\"\"\n",
    "    Extract a specified number of patches from an array in a random manner.\n",
    "\n",
    "    Parameters\n",
    "    ----------\n",
    "    arr : np.ndarray\n",
    "        Input array from which to extract patches.\n",
    "    patch_size : Tuple[int, ...]\n",
    "        Patch sizes in each dimension.\n",
    "    num_patches : int\n",
    "        Number of patches to return.\n",
    "\n",
    "    Returns\n",
    "    -------\n",
    "    List[np.ndarray]\n",
    "        List of randomly selected patches.\n",
    "    \"\"\"\n",
    "\n",
    "    patch_centers = []\n",
    "    for i, dimension in enumerate(patch_size):\n",
    "        if dimension == arr.shape[i]:\n",
    "            patch_centers.append([None]*num_patches)\n",
    "        else:\n",
    "            patch_centers.append(np.random.randint(low=0,\n",
    "                                               high=arr.shape[i] - dimension,\n",
    "                                               size=num_patches))\n",
    "    patch_centers = np.array(patch_centers).T\n",
    "\n",
    "    patches = []\n",
    "    for patch in patch_centers:\n",
    "        patch = load_zarr(arr, patch, patch_size)\n",
    "        patches.append(patch)\n",
    "\n",
    "    patches = dask.compute(*patches)\n",
    "    return np.stack(patches)\n"
   ]
  },
  {
   "cell_type": "code",
   "execution_count": 7,
   "metadata": {},
   "outputs": [
    {
     "data": {
      "text/plain": [
       "'http://127.0.0.1:8787/status'"
      ]
     },
     "execution_count": 7,
     "metadata": {},
     "output_type": "execute_result"
    }
   ],
   "source": [
    "try:\n",
    "    client = get_client()\n",
    "except ValueError:\n",
    "    client = Client()\n",
    "client.dashboard_link"
   ]
  },
  {
   "cell_type": "code",
   "execution_count": 8,
   "metadata": {},
   "outputs": [],
   "source": [
    "class ZarrDataset(IterableDataset):\n",
    "    \"\"\"Dataset to extract patches from a zarr storage.\"\"\"\n",
    "\n",
    "    def __init__(\n",
    "            self,\n",
    "            data_path: Union[str, Path],\n",
    "            patch_size: Optional[Union[List[int], Tuple[int]]] = None,\n",
    "            num_patches: Optional[int] = None,\n",
    "            num_load_at_once: int = 20,\n",
    "            n_shuffle_coordinates: int = 20,\n",
    "    ) -> None:\n",
    "        self.patch_size = patch_size\n",
    "        self.num_patches = num_patches\n",
    "        self.num_load_at_once = num_load_at_once\n",
    "        self.n_shuffle_coordinates = n_shuffle_coordinates\n",
    "\n",
    "        self.sample = zarr.open(data_path, mode=\"r\")\n",
    "\n",
    "    def __len__(self):\n",
    "        return self.n_shuffle_coordinates * self.num_load_at_once\n",
    "\n",
    "    def __iter__(self):\n",
    "        \"\"\"\n",
    "        Iterate over data source and yield single patch.\n",
    "\n",
    "        Yields\n",
    "        ------\n",
    "        np.ndarray\n",
    "        \"\"\"\n",
    "        future = client.submit(extract_patches_random,\n",
    "                               self.sample,\n",
    "                               self.patch_size,\n",
    "                               self.num_load_at_once)\n",
    "\n",
    "        data_in_memory = extract_patches_random(self.sample,\n",
    "                                                self.patch_size,\n",
    "                                                self.num_load_at_once)\n",
    "\n",
    "        for _ in range(self.n_shuffle_coordinates):\n",
    "            data_in_memory = future.result()\n",
    "            future = client.submit(extract_patches_random,\n",
    "                                   self.sample,\n",
    "                                   self.patch_size,\n",
    "                                   self.num_load_at_once)\n",
    "\n",
    "            for j in range(len(data_in_memory)):\n",
    "                # pop and yield single patch\n",
    "                patch = data_in_memory[j]\n",
    "                yield patch\n"
   ]
  },
  {
   "cell_type": "code",
   "execution_count": 9,
   "metadata": {},
   "outputs": [
    {
     "name": "stderr",
     "output_type": "stream",
     "text": [
      "  0%|          | 0/2000 [00:00<?, ?it/s]"
     ]
    },
    {
     "name": "stderr",
     "output_type": "stream",
     "text": [
      "100%|██████████| 2000/2000 [00:05<00:00, 366.88it/s]\n"
     ]
    }
   ],
   "source": [
    "# around 5 seconds\n",
    "\n",
    "from tqdm import tqdm\n",
    "\n",
    "dataset = ZarrDataset(\n",
    "    data_path=local_path,\n",
    "    patch_size=patch_size,\n",
    "    num_load_at_once=20,\n",
    "    n_shuffle_coordinates=100\n",
    ")\n",
    "\n",
    "dl = DataLoader(dataset, batch_size=1, num_workers=0, prefetch_factor=None)\n",
    "\n",
    "\n",
    "for X in tqdm(dl):\n",
    "    X = np.array(X)"
   ]
  },
  {
   "cell_type": "code",
   "execution_count": 10,
   "metadata": {},
   "outputs": [
    {
     "name": "stderr",
     "output_type": "stream",
     "text": [
      " 24%|██▍       | 488/2000 [00:14<00:39, 38.69it/s]2023-11-08 16:13:10,105 - distributed.scheduler - ERROR - Couldn't gather keys: {('getitem-46feeb637397bec3bf1e2ad3d8cce1b4', 0, 0, 0, 0): 'forgotten', ('getitem-46feeb637397bec3bf1e2ad3d8cce1b4', 1, 0, 0, 0): 'forgotten'}\n",
      "2023-11-08 16:13:10,107 - distributed.client - WARNING - Couldn't gather 2 keys, rescheduling (('getitem-46feeb637397bec3bf1e2ad3d8cce1b4', 0, 0, 0, 0), ('getitem-46feeb637397bec3bf1e2ad3d8cce1b4', 1, 0, 0, 0))\n",
      " 47%|████▋     | 937/2000 [00:28<00:33, 31.80it/s]2023-11-08 16:13:24,146 - distributed.scheduler - ERROR - Couldn't gather keys: {('getitem-46feeb637397bec3bf1e2ad3d8cce1b4', 0, 0, 0, 0): 'waiting', ('getitem-46feeb637397bec3bf1e2ad3d8cce1b4', 1, 0, 0, 0): 'waiting'}\n",
      "2023-11-08 16:13:24,147 - distributed.client - WARNING - Couldn't gather 2 keys, rescheduling (('getitem-46feeb637397bec3bf1e2ad3d8cce1b4', 0, 0, 0, 0), ('getitem-46feeb637397bec3bf1e2ad3d8cce1b4', 1, 0, 0, 0))\n",
      "100%|██████████| 2000/2000 [00:57<00:00, 34.76it/s]"
     ]
    },
    {
     "name": "stdout",
     "output_type": "stream",
     "text": [
      "CPU times: user 22.8 s, sys: 2.35 s, total: 25.2 s\n",
      "Wall time: 57.5 s\n"
     ]
    },
    {
     "name": "stderr",
     "output_type": "stream",
     "text": [
      "\n"
     ]
    }
   ],
   "source": [
    "%%time\n",
    "# around 1 minutes\n",
    "\n",
    "import dask.array as da\n",
    "complete_download = da.from_zarr(local_path)\n",
    "\n",
    "for i in  tqdm(range(len(dl))):\n",
    "    complete_download[small_slice].compute()"
   ]
  }
 ],
 "metadata": {
  "kernelspec": {
   "display_name": "Python 3.9.13 ('HDNn')",
   "language": "python",
   "name": "python3"
  },
  "language_info": {
   "codemirror_mode": {
    "name": "ipython",
    "version": 3
   },
   "file_extension": ".py",
   "mimetype": "text/x-python",
   "name": "python",
   "nbconvert_exporter": "python",
   "pygments_lexer": "ipython3",
   "version": "3.11.6"
  },
  "vscode": {
   "interpreter": {
    "hash": "faf8b084d52efbff00ddf863c4fb0ca7a3b023f9f18590a5b65c31dc02d793e2"
   }
  }
 },
 "nbformat": 4,
 "nbformat_minor": 2
}
