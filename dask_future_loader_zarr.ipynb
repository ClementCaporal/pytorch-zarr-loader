{
 "cells": [
  {
   "cell_type": "markdown",
   "metadata": {},
   "source": [
    "# ZARR reading with Dask Client\n",
    "\n",
    "[Link to example dataset](https://imagesc.zulipchat.com/user_uploads/16804/85qPFC9O85gLhNmF5KLdqtUx/bsd_val.zarr.zip) - copy it under `./data/` and unzip it.\n"
   ]
  },
  {
   "cell_type": "code",
   "execution_count": 2,
   "metadata": {},
   "outputs": [],
   "source": [
    "\n",
    "from itertools import islice\n",
    "from pathlib import Path\n",
    "from typing import List, Tuple, Union, Optional, Callable, Dict, Generator\n",
    "import time\n",
    "import numpy as np\n",
    "import zarr\n",
    "from torch.utils.data import DataLoader, IterableDataset, get_worker_info\n",
    "from dask.distributed import Client, get_client\n",
    "\n",
    "from timeit import timeit, time\n"
   ]
  },
  {
   "cell_type": "code",
   "execution_count": 3,
   "metadata": {},
   "outputs": [],
   "source": [
    "import numpy as np\n",
    "from typing import List, Tuple, Union\n",
    "import dask\n",
    "\n",
    "@dask.delayed\n",
    "def load_zarr(arr: np.ndarray,\n",
    "              patch_size: Union[List[int], Tuple[int, ...]],\n",
    "              i: int,\n",
    "              x: int,\n",
    "              y: int) -> np.ndarray:\n",
    "    patch = arr[i,\n",
    "        y - patch_size[1] // 2 : y + patch_size[1] // 2,\n",
    "        x - patch_size[0] // 2 : x + patch_size[0] // 2]\n",
    "    return patch\n",
    "\n",
    "\n",
    "def extract_patches_random(arr: np.ndarray,\n",
    "                           patch_size: Union[List[int], Tuple[int, ...]],\n",
    "                           num_patches: int) -> List[np.ndarray]:\n",
    "    \"\"\"\n",
    "    Extract a specified number of patches from an array in a random manner.\n",
    "\n",
    "    Parameters\n",
    "    ----------\n",
    "    arr : np.ndarray\n",
    "        Input array from which to extract patches.\n",
    "    patch_size : Tuple[int, ...]\n",
    "        Patch sizes in each dimension.\n",
    "    num_patches : int\n",
    "        Number of patches to return.\n",
    "\n",
    "    Returns\n",
    "    -------\n",
    "    List[np.ndarray]\n",
    "        List of randomly selected patches.\n",
    "    \"\"\"\n",
    "\n",
    "    rng = np.random.default_rng()\n",
    "    patches = []\n",
    "    patch_centers_x = np.random.randint(low=patch_size[0] // 2,\n",
    "                                        high=arr.shape[-1] - patch_size[0] // 2,\n",
    "                                        size=num_patches)\n",
    "    patch_centers_y = np.random.randint(low=patch_size[1] // 2,\n",
    "                                        high=arr.shape[-2] - patch_size[1] // 2,\n",
    "                                        size=num_patches)\n",
    "    slice_indeces = np.random.randint(low=0, high=arr.shape[0], size=num_patches)\n",
    "\n",
    "    for i, x, y in zip(slice_indeces, patch_centers_x, patch_centers_y):\n",
    "        patch = load_zarr(arr, patch_size, i, x, y)\n",
    "\n",
    "\n",
    "        # patch = arr[i,\n",
    "        #     y - patch_size[1] // 2 : y + patch_size[1] // 2,\n",
    "        #     x - patch_size[0] // 2 : x + patch_size[0] // 2]\n",
    "        patches.append(patch)\n",
    "\n",
    "    # compute each patch\n",
    "    patches = dask.compute(*patches)\n",
    "    return np.stack(patches)\n"
   ]
  },
  {
   "cell_type": "code",
   "execution_count": 4,
   "metadata": {},
   "outputs": [
    {
     "data": {
      "text/plain": [
       "'http://127.0.0.1:8787/status'"
      ]
     },
     "execution_count": 4,
     "metadata": {},
     "output_type": "execute_result"
    }
   ],
   "source": [
    "try:\n",
    "    client = get_client()\n",
    "except ValueError:\n",
    "    client = Client()\n",
    "client.dashboard_link"
   ]
  },
  {
   "cell_type": "code",
   "execution_count": 9,
   "metadata": {},
   "outputs": [],
   "source": [
    "class ZarrDataset(IterableDataset):\n",
    "    \"\"\"Dataset to extract patches from a zarr storage.\"\"\"\n",
    "\n",
    "    def __init__(\n",
    "            self,\n",
    "            data_path: Union[str, Path],\n",
    "            patch_extraction_method: str,\n",
    "            patch_size: Optional[Union[List[int], Tuple[int]]] = None,\n",
    "            num_patches: Optional[int] = None,\n",
    "            mean: Optional[float] = None,\n",
    "            std: Optional[float] = None,\n",
    "            patch_transform: Optional[Callable] = None,\n",
    "            patch_transform_params: Optional[Dict] = None,\n",
    "            num_load_at_once: int = 20,\n",
    "            n_shuffle_coordinates: int = 20,\n",
    "    ) -> None:\n",
    "        self.patch_size = patch_size\n",
    "        self.num_patches = num_patches\n",
    "        self.num_load_at_once = num_load_at_once\n",
    "        self.n_shuffle_coordinates = n_shuffle_coordinates\n",
    "\n",
    "        self.sample = zarr.open(data_path, mode=\"r\")\n",
    "\n",
    "    def __len__(self):\n",
    "        return self.n_shuffle_coordinates * self.num_load_at_once\n",
    "\n",
    "    def __iter__(self):\n",
    "        \"\"\"\n",
    "        Iterate over data source and yield single patch.\n",
    "\n",
    "        Yields\n",
    "        ------\n",
    "        np.ndarray\n",
    "        \"\"\"\n",
    "        worker_info = get_worker_info()\n",
    "\n",
    "        future = client.submit(extract_patches_random,\n",
    "                               self.sample,\n",
    "                               self.patch_size,\n",
    "                               self.num_load_at_once)\n",
    "\n",
    "        data_in_memory = extract_patches_random(self.sample,\n",
    "                                                self.patch_size,\n",
    "                                                self.num_load_at_once)\n",
    "\n",
    "        for _ in range(self.n_shuffle_coordinates):\n",
    "            data_in_memory = future.result()\n",
    "            future = client.submit(extract_patches_random,\n",
    "                                   self.sample,\n",
    "                                   self.patch_size,\n",
    "                                   self.num_load_at_once)\n",
    "\n",
    "            for j in range(len(data_in_memory)):\n",
    "                yield data_in_memory[j]\n",
    "\n",
    "test_path = Path('.') / 'data' / 'huge.zarr/0'\n",
    "patch_size = (64, 64)\n",
    "\n",
    "dataset = ZarrDataset(\n",
    "    data_path=test_path,\n",
    "    patch_extraction_method='random',\n",
    "    patch_size=patch_size,\n",
    "    num_load_at_once=20,\n",
    "    n_shuffle_coordinates=100\n",
    ")\n",
    "\n",
    "dl = DataLoader(dataset, batch_size=1, num_workers=0, prefetch_factor=None)"
   ]
  },
  {
   "cell_type": "code",
   "execution_count": 10,
   "metadata": {},
   "outputs": [
    {
     "name": "stdout",
     "output_type": "stream",
     "text": [
      "2000\n"
     ]
    },
    {
     "name": "stderr",
     "output_type": "stream",
     "text": [
      "100%|██████████| 2000/2000 [00:21<00:00, 91.03it/s]\n"
     ]
    }
   ],
   "source": [
    "from tqdm import tqdm\n",
    "\n",
    "print(len(dl))\n",
    "for X in tqdm(dl):\n",
    "    np.matmul(X, X)"
   ]
  },
  {
   "cell_type": "code",
   "execution_count": 39,
   "metadata": {},
   "outputs": [
    {
     "data": {
      "text/plain": [
       "<enumerate at 0x7f4dd9348270>"
      ]
     },
     "execution_count": 39,
     "metadata": {},
     "output_type": "execute_result"
    }
   ],
   "source": [
    "enumerate(dl)"
   ]
  },
  {
   "cell_type": "code",
   "execution_count": 40,
   "metadata": {},
   "outputs": [
    {
     "ename": "KeyboardInterrupt",
     "evalue": "",
     "output_type": "error",
     "traceback": [
      "\u001b[0;31m---------------------------------------------------------------------------\u001b[0m",
      "\u001b[0;31mKeyboardInterrupt\u001b[0m                         Traceback (most recent call last)",
      "\u001b[1;32m/home/clement/Documents/pytorch-zarr-loader/example_ZARR_daskclient.ipynb Cell 11\u001b[0m line \u001b[0;36m1\n\u001b[1;32m     <a href='vscode-notebook-cell:/home/clement/Documents/pytorch-zarr-loader/example_ZARR_daskclient.ipynb#X16sZmlsZQ%3D%3D?line=9'>10</a>\u001b[0m     \u001b[39mreturn\u001b[39;00m (time\u001b[39m.\u001b[39mtime() \u001b[39m-\u001b[39m timer)\u001b[39m/\u001b[39m(i \u001b[39m+\u001b[39m \u001b[39m1\u001b[39m)\n\u001b[1;32m     <a href='vscode-notebook-cell:/home/clement/Documents/pytorch-zarr-loader/example_ZARR_daskclient.ipynb#X16sZmlsZQ%3D%3D?line=11'>12</a>\u001b[0m \u001b[39m# timeit and add counter of iterations\u001b[39;00m\n\u001b[0;32m---> <a href='vscode-notebook-cell:/home/clement/Documents/pytorch-zarr-loader/example_ZARR_daskclient.ipynb#X16sZmlsZQ%3D%3D?line=12'>13</a>\u001b[0m iterate_dl(dl)\n",
      "\u001b[1;32m/home/clement/Documents/pytorch-zarr-loader/example_ZARR_daskclient.ipynb Cell 11\u001b[0m line \u001b[0;36m4\n\u001b[1;32m      <a href='vscode-notebook-cell:/home/clement/Documents/pytorch-zarr-loader/example_ZARR_daskclient.ipynb#X16sZmlsZQ%3D%3D?line=1'>2</a>\u001b[0m \u001b[39mdef\u001b[39;00m \u001b[39miterate_dl\u001b[39m(dl):\n\u001b[1;32m      <a href='vscode-notebook-cell:/home/clement/Documents/pytorch-zarr-loader/example_ZARR_daskclient.ipynb#X16sZmlsZQ%3D%3D?line=2'>3</a>\u001b[0m     timer \u001b[39m=\u001b[39m time\u001b[39m.\u001b[39mtime()\n\u001b[0;32m----> <a href='vscode-notebook-cell:/home/clement/Documents/pytorch-zarr-loader/example_ZARR_daskclient.ipynb#X16sZmlsZQ%3D%3D?line=3'>4</a>\u001b[0m     \u001b[39mfor\u001b[39;49;00m i, batch \u001b[39min\u001b[39;49;00m \u001b[39menumerate\u001b[39;49m(dl):\n\u001b[1;32m      <a href='vscode-notebook-cell:/home/clement/Documents/pytorch-zarr-loader/example_ZARR_daskclient.ipynb#X16sZmlsZQ%3D%3D?line=4'>5</a>\u001b[0m         \u001b[39mprint\u001b[39;49m(i)\n\u001b[1;32m      <a href='vscode-notebook-cell:/home/clement/Documents/pytorch-zarr-loader/example_ZARR_daskclient.ipynb#X16sZmlsZQ%3D%3D?line=5'>6</a>\u001b[0m         start \u001b[39m=\u001b[39;49m time\u001b[39m.\u001b[39;49mtime()\n",
      "File \u001b[0;32m~/miniforge3/envs/pytorch-zarr-loader/lib/python3.11/site-packages/torch/utils/data/dataloader.py:634\u001b[0m, in \u001b[0;36m_BaseDataLoaderIter.__next__\u001b[0;34m(self)\u001b[0m\n\u001b[1;32m    631\u001b[0m \u001b[39mif\u001b[39;00m \u001b[39mself\u001b[39m\u001b[39m.\u001b[39m_sampler_iter \u001b[39mis\u001b[39;00m \u001b[39mNone\u001b[39;00m:\n\u001b[1;32m    632\u001b[0m     \u001b[39m# TODO(https://github.com/pytorch/pytorch/issues/76750)\u001b[39;00m\n\u001b[1;32m    633\u001b[0m     \u001b[39mself\u001b[39m\u001b[39m.\u001b[39m_reset()  \u001b[39m# type: ignore[call-arg]\u001b[39;00m\n\u001b[0;32m--> 634\u001b[0m data \u001b[39m=\u001b[39m \u001b[39mself\u001b[39;49m\u001b[39m.\u001b[39;49m_next_data()\n\u001b[1;32m    635\u001b[0m \u001b[39mself\u001b[39m\u001b[39m.\u001b[39m_num_yielded \u001b[39m+\u001b[39m\u001b[39m=\u001b[39m \u001b[39m1\u001b[39m\n\u001b[1;32m    636\u001b[0m \u001b[39mif\u001b[39;00m \u001b[39mself\u001b[39m\u001b[39m.\u001b[39m_dataset_kind \u001b[39m==\u001b[39m _DatasetKind\u001b[39m.\u001b[39mIterable \u001b[39mand\u001b[39;00m \\\n\u001b[1;32m    637\u001b[0m         \u001b[39mself\u001b[39m\u001b[39m.\u001b[39m_IterableDataset_len_called \u001b[39mis\u001b[39;00m \u001b[39mnot\u001b[39;00m \u001b[39mNone\u001b[39;00m \u001b[39mand\u001b[39;00m \\\n\u001b[1;32m    638\u001b[0m         \u001b[39mself\u001b[39m\u001b[39m.\u001b[39m_num_yielded \u001b[39m>\u001b[39m \u001b[39mself\u001b[39m\u001b[39m.\u001b[39m_IterableDataset_len_called:\n",
      "File \u001b[0;32m~/miniforge3/envs/pytorch-zarr-loader/lib/python3.11/site-packages/torch/utils/data/dataloader.py:678\u001b[0m, in \u001b[0;36m_SingleProcessDataLoaderIter._next_data\u001b[0;34m(self)\u001b[0m\n\u001b[1;32m    676\u001b[0m \u001b[39mdef\u001b[39;00m \u001b[39m_next_data\u001b[39m(\u001b[39mself\u001b[39m):\n\u001b[1;32m    677\u001b[0m     index \u001b[39m=\u001b[39m \u001b[39mself\u001b[39m\u001b[39m.\u001b[39m_next_index()  \u001b[39m# may raise StopIteration\u001b[39;00m\n\u001b[0;32m--> 678\u001b[0m     data \u001b[39m=\u001b[39m \u001b[39mself\u001b[39;49m\u001b[39m.\u001b[39;49m_dataset_fetcher\u001b[39m.\u001b[39;49mfetch(index)  \u001b[39m# may raise StopIteration\u001b[39;00m\n\u001b[1;32m    679\u001b[0m     \u001b[39mif\u001b[39;00m \u001b[39mself\u001b[39m\u001b[39m.\u001b[39m_pin_memory:\n\u001b[1;32m    680\u001b[0m         data \u001b[39m=\u001b[39m _utils\u001b[39m.\u001b[39mpin_memory\u001b[39m.\u001b[39mpin_memory(data, \u001b[39mself\u001b[39m\u001b[39m.\u001b[39m_pin_memory_device)\n",
      "File \u001b[0;32m~/miniforge3/envs/pytorch-zarr-loader/lib/python3.11/site-packages/torch/utils/data/_utils/fetch.py:32\u001b[0m, in \u001b[0;36m_IterableDatasetFetcher.fetch\u001b[0;34m(self, possibly_batched_index)\u001b[0m\n\u001b[1;32m     30\u001b[0m \u001b[39mfor\u001b[39;00m _ \u001b[39min\u001b[39;00m possibly_batched_index:\n\u001b[1;32m     31\u001b[0m     \u001b[39mtry\u001b[39;00m:\n\u001b[0;32m---> 32\u001b[0m         data\u001b[39m.\u001b[39mappend(\u001b[39mnext\u001b[39m(\u001b[39mself\u001b[39m\u001b[39m.\u001b[39mdataset_iter))\n\u001b[1;32m     33\u001b[0m     \u001b[39mexcept\u001b[39;00m \u001b[39mStopIteration\u001b[39;00m:\n\u001b[1;32m     34\u001b[0m         \u001b[39mself\u001b[39m\u001b[39m.\u001b[39mended \u001b[39m=\u001b[39m \u001b[39mTrue\u001b[39;00m\n",
      "\u001b[1;32m/home/clement/Documents/pytorch-zarr-loader/example_ZARR_daskclient.ipynb Cell 11\u001b[0m line \u001b[0;36m5\n\u001b[1;32m     <a href='vscode-notebook-cell:/home/clement/Documents/pytorch-zarr-loader/example_ZARR_daskclient.ipynb#X16sZmlsZQ%3D%3D?line=42'>43</a>\u001b[0m num_workers \u001b[39m=\u001b[39m worker_info\u001b[39m.\u001b[39mnum_workers \u001b[39mif\u001b[39;00m worker_info \u001b[39mis\u001b[39;00m \u001b[39mnot\u001b[39;00m \u001b[39mNone\u001b[39;00m \u001b[39melse\u001b[39;00m \u001b[39m1\u001b[39m\n\u001b[1;32m     <a href='vscode-notebook-cell:/home/clement/Documents/pytorch-zarr-loader/example_ZARR_daskclient.ipynb#X16sZmlsZQ%3D%3D?line=44'>45</a>\u001b[0m future \u001b[39m=\u001b[39m client\u001b[39m.\u001b[39msubmit(extract_patches_random,\n\u001b[1;32m     <a href='vscode-notebook-cell:/home/clement/Documents/pytorch-zarr-loader/example_ZARR_daskclient.ipynb#X16sZmlsZQ%3D%3D?line=45'>46</a>\u001b[0m                        \u001b[39mself\u001b[39m\u001b[39m.\u001b[39msample,\n\u001b[1;32m     <a href='vscode-notebook-cell:/home/clement/Documents/pytorch-zarr-loader/example_ZARR_daskclient.ipynb#X16sZmlsZQ%3D%3D?line=46'>47</a>\u001b[0m                        \u001b[39mself\u001b[39m\u001b[39m.\u001b[39mpatch_size,\n\u001b[1;32m     <a href='vscode-notebook-cell:/home/clement/Documents/pytorch-zarr-loader/example_ZARR_daskclient.ipynb#X16sZmlsZQ%3D%3D?line=47'>48</a>\u001b[0m                        \u001b[39mself\u001b[39m\u001b[39m.\u001b[39mnum_load_at_once)\n\u001b[0;32m---> <a href='vscode-notebook-cell:/home/clement/Documents/pytorch-zarr-loader/example_ZARR_daskclient.ipynb#X16sZmlsZQ%3D%3D?line=49'>50</a>\u001b[0m data_in_memory \u001b[39m=\u001b[39m extract_patches_random(\u001b[39mself\u001b[39;49m\u001b[39m.\u001b[39;49msample,\n\u001b[1;32m     <a href='vscode-notebook-cell:/home/clement/Documents/pytorch-zarr-loader/example_ZARR_daskclient.ipynb#X16sZmlsZQ%3D%3D?line=50'>51</a>\u001b[0m                                         \u001b[39mself\u001b[39;49m\u001b[39m.\u001b[39;49mpatch_size,\n\u001b[1;32m     <a href='vscode-notebook-cell:/home/clement/Documents/pytorch-zarr-loader/example_ZARR_daskclient.ipynb#X16sZmlsZQ%3D%3D?line=51'>52</a>\u001b[0m                                         \u001b[39mself\u001b[39;49m\u001b[39m.\u001b[39;49mnum_load_at_once)\n\u001b[1;32m     <a href='vscode-notebook-cell:/home/clement/Documents/pytorch-zarr-loader/example_ZARR_daskclient.ipynb#X16sZmlsZQ%3D%3D?line=53'>54</a>\u001b[0m \u001b[39mfor\u001b[39;00m _ \u001b[39min\u001b[39;00m \u001b[39mrange\u001b[39m(\u001b[39mself\u001b[39m\u001b[39m.\u001b[39mn_shuffle_coordinates):\n\u001b[1;32m     <a href='vscode-notebook-cell:/home/clement/Documents/pytorch-zarr-loader/example_ZARR_daskclient.ipynb#X16sZmlsZQ%3D%3D?line=54'>55</a>\u001b[0m     data_in_memory \u001b[39m=\u001b[39m future\u001b[39m.\u001b[39mresult()\n",
      "\u001b[1;32m/home/clement/Documents/pytorch-zarr-loader/example_ZARR_daskclient.ipynb Cell 11\u001b[0m line \u001b[0;36m3\n\u001b[1;32m     <a href='vscode-notebook-cell:/home/clement/Documents/pytorch-zarr-loader/example_ZARR_daskclient.ipynb#X16sZmlsZQ%3D%3D?line=32'>33</a>\u001b[0m slice_indeces \u001b[39m=\u001b[39m np\u001b[39m.\u001b[39mrandom\u001b[39m.\u001b[39mrandint(low\u001b[39m=\u001b[39m\u001b[39m0\u001b[39m, high\u001b[39m=\u001b[39marr\u001b[39m.\u001b[39mshape[\u001b[39m0\u001b[39m], size\u001b[39m=\u001b[39mnum_patches)\n\u001b[1;32m     <a href='vscode-notebook-cell:/home/clement/Documents/pytorch-zarr-loader/example_ZARR_daskclient.ipynb#X16sZmlsZQ%3D%3D?line=34'>35</a>\u001b[0m \u001b[39mfor\u001b[39;00m i, x, y \u001b[39min\u001b[39;00m \u001b[39mzip\u001b[39m(slice_indeces, patch_centers_x, patch_centers_y):\n\u001b[0;32m---> <a href='vscode-notebook-cell:/home/clement/Documents/pytorch-zarr-loader/example_ZARR_daskclient.ipynb#X16sZmlsZQ%3D%3D?line=35'>36</a>\u001b[0m     patch \u001b[39m=\u001b[39m arr[i,\n\u001b[1;32m     <a href='vscode-notebook-cell:/home/clement/Documents/pytorch-zarr-loader/example_ZARR_daskclient.ipynb#X16sZmlsZQ%3D%3D?line=36'>37</a>\u001b[0m                 y \u001b[39m-\u001b[39;49m patch_size[\u001b[39m1\u001b[39;49m] \u001b[39m/\u001b[39;49m\u001b[39m/\u001b[39;49m \u001b[39m2\u001b[39;49m : y \u001b[39m+\u001b[39;49m patch_size[\u001b[39m1\u001b[39;49m] \u001b[39m/\u001b[39;49m\u001b[39m/\u001b[39;49m \u001b[39m2\u001b[39;49m,\n\u001b[1;32m     <a href='vscode-notebook-cell:/home/clement/Documents/pytorch-zarr-loader/example_ZARR_daskclient.ipynb#X16sZmlsZQ%3D%3D?line=37'>38</a>\u001b[0m                 x \u001b[39m-\u001b[39;49m patch_size[\u001b[39m0\u001b[39;49m] \u001b[39m/\u001b[39;49m\u001b[39m/\u001b[39;49m \u001b[39m2\u001b[39;49m : x \u001b[39m+\u001b[39;49m patch_size[\u001b[39m0\u001b[39;49m] \u001b[39m/\u001b[39;49m\u001b[39m/\u001b[39;49m \u001b[39m2\u001b[39;49m]\n\u001b[1;32m     <a href='vscode-notebook-cell:/home/clement/Documents/pytorch-zarr-loader/example_ZARR_daskclient.ipynb#X16sZmlsZQ%3D%3D?line=39'>40</a>\u001b[0m     patches\u001b[39m.\u001b[39mappend(patch)\n\u001b[1;32m     <a href='vscode-notebook-cell:/home/clement/Documents/pytorch-zarr-loader/example_ZARR_daskclient.ipynb#X16sZmlsZQ%3D%3D?line=41'>42</a>\u001b[0m \u001b[39mreturn\u001b[39;00m np\u001b[39m.\u001b[39mstack(patches)\n",
      "File \u001b[0;32m~/miniforge3/envs/pytorch-zarr-loader/lib/python3.11/site-packages/zarr/core.py:826\u001b[0m, in \u001b[0;36mArray.__getitem__\u001b[0;34m(self, selection)\u001b[0m\n\u001b[1;32m    824\u001b[0m     result \u001b[39m=\u001b[39m \u001b[39mself\u001b[39m\u001b[39m.\u001b[39mget_orthogonal_selection(pure_selection, fields\u001b[39m=\u001b[39mfields)\n\u001b[1;32m    825\u001b[0m \u001b[39melse\u001b[39;00m:\n\u001b[0;32m--> 826\u001b[0m     result \u001b[39m=\u001b[39m \u001b[39mself\u001b[39;49m\u001b[39m.\u001b[39;49mget_basic_selection(pure_selection, fields\u001b[39m=\u001b[39;49mfields)\n\u001b[1;32m    827\u001b[0m \u001b[39mreturn\u001b[39;00m result\n",
      "File \u001b[0;32m~/miniforge3/envs/pytorch-zarr-loader/lib/python3.11/site-packages/zarr/core.py:952\u001b[0m, in \u001b[0;36mArray.get_basic_selection\u001b[0;34m(self, selection, out, fields)\u001b[0m\n\u001b[1;32m    949\u001b[0m     \u001b[39mreturn\u001b[39;00m \u001b[39mself\u001b[39m\u001b[39m.\u001b[39m_get_basic_selection_zd(selection\u001b[39m=\u001b[39mselection, out\u001b[39m=\u001b[39mout,\n\u001b[1;32m    950\u001b[0m                                         fields\u001b[39m=\u001b[39mfields)\n\u001b[1;32m    951\u001b[0m \u001b[39melse\u001b[39;00m:\n\u001b[0;32m--> 952\u001b[0m     \u001b[39mreturn\u001b[39;00m \u001b[39mself\u001b[39;49m\u001b[39m.\u001b[39;49m_get_basic_selection_nd(selection\u001b[39m=\u001b[39;49mselection, out\u001b[39m=\u001b[39;49mout,\n\u001b[1;32m    953\u001b[0m                                         fields\u001b[39m=\u001b[39;49mfields)\n",
      "File \u001b[0;32m~/miniforge3/envs/pytorch-zarr-loader/lib/python3.11/site-packages/zarr/core.py:995\u001b[0m, in \u001b[0;36mArray._get_basic_selection_nd\u001b[0;34m(self, selection, out, fields)\u001b[0m\n\u001b[1;32m    989\u001b[0m \u001b[39mdef\u001b[39;00m \u001b[39m_get_basic_selection_nd\u001b[39m(\u001b[39mself\u001b[39m, selection, out\u001b[39m=\u001b[39m\u001b[39mNone\u001b[39;00m, fields\u001b[39m=\u001b[39m\u001b[39mNone\u001b[39;00m):\n\u001b[1;32m    990\u001b[0m     \u001b[39m# implementation of basic selection for array with at least one dimension\u001b[39;00m\n\u001b[1;32m    991\u001b[0m \n\u001b[1;32m    992\u001b[0m     \u001b[39m# setup indexer\u001b[39;00m\n\u001b[1;32m    993\u001b[0m     indexer \u001b[39m=\u001b[39m BasicIndexer(selection, \u001b[39mself\u001b[39m)\n\u001b[0;32m--> 995\u001b[0m     \u001b[39mreturn\u001b[39;00m \u001b[39mself\u001b[39;49m\u001b[39m.\u001b[39;49m_get_selection(indexer\u001b[39m=\u001b[39;49mindexer, out\u001b[39m=\u001b[39;49mout, fields\u001b[39m=\u001b[39;49mfields)\n",
      "File \u001b[0;32m~/miniforge3/envs/pytorch-zarr-loader/lib/python3.11/site-packages/zarr/core.py:1284\u001b[0m, in \u001b[0;36mArray._get_selection\u001b[0;34m(self, indexer, out, fields)\u001b[0m\n\u001b[1;32m   1281\u001b[0m \u001b[39mif\u001b[39;00m math\u001b[39m.\u001b[39mprod(out_shape) \u001b[39m>\u001b[39m \u001b[39m0\u001b[39m:\n\u001b[1;32m   1282\u001b[0m     \u001b[39m# allow storage to get multiple items at once\u001b[39;00m\n\u001b[1;32m   1283\u001b[0m     lchunk_coords, lchunk_selection, lout_selection \u001b[39m=\u001b[39m \u001b[39mzip\u001b[39m(\u001b[39m*\u001b[39mindexer)\n\u001b[0;32m-> 1284\u001b[0m     \u001b[39mself\u001b[39;49m\u001b[39m.\u001b[39;49m_chunk_getitems(\n\u001b[1;32m   1285\u001b[0m         lchunk_coords, lchunk_selection, out, lout_selection,\n\u001b[1;32m   1286\u001b[0m         drop_axes\u001b[39m=\u001b[39;49mindexer\u001b[39m.\u001b[39;49mdrop_axes, fields\u001b[39m=\u001b[39;49mfields\n\u001b[1;32m   1287\u001b[0m     )\n\u001b[1;32m   1288\u001b[0m \u001b[39mif\u001b[39;00m out\u001b[39m.\u001b[39mshape:\n\u001b[1;32m   1289\u001b[0m     \u001b[39mreturn\u001b[39;00m out\n",
      "File \u001b[0;32m~/miniforge3/envs/pytorch-zarr-loader/lib/python3.11/site-packages/zarr/core.py:2028\u001b[0m, in \u001b[0;36mArray._chunk_getitems\u001b[0;34m(self, lchunk_coords, lchunk_selection, out, lout_selection, drop_axes, fields)\u001b[0m\n\u001b[1;32m   2026\u001b[0m     \u001b[39mif\u001b[39;00m \u001b[39mnot\u001b[39;00m \u001b[39misinstance\u001b[39m(\u001b[39mself\u001b[39m\u001b[39m.\u001b[39m_meta_array, np\u001b[39m.\u001b[39mndarray):\n\u001b[1;32m   2027\u001b[0m         contexts \u001b[39m=\u001b[39m ConstantMap(ckeys, constant\u001b[39m=\u001b[39mContext(meta_array\u001b[39m=\u001b[39m\u001b[39mself\u001b[39m\u001b[39m.\u001b[39m_meta_array))\n\u001b[0;32m-> 2028\u001b[0m     cdatas \u001b[39m=\u001b[39m \u001b[39mself\u001b[39;49m\u001b[39m.\u001b[39;49mchunk_store\u001b[39m.\u001b[39;49mgetitems(ckeys, contexts\u001b[39m=\u001b[39;49mcontexts)\n\u001b[1;32m   2030\u001b[0m \u001b[39mfor\u001b[39;00m ckey, chunk_select, out_select \u001b[39min\u001b[39;00m \u001b[39mzip\u001b[39m(ckeys, lchunk_selection, lout_selection):\n\u001b[1;32m   2031\u001b[0m     \u001b[39mif\u001b[39;00m ckey \u001b[39min\u001b[39;00m cdatas:\n",
      "File \u001b[0;32m~/miniforge3/envs/pytorch-zarr-loader/lib/python3.11/site-packages/zarr/_storage/store.py:160\u001b[0m, in \u001b[0;36mBaseStore.getitems\u001b[0;34m(self, keys, contexts)\u001b[0m\n\u001b[1;32m    135\u001b[0m \u001b[39mdef\u001b[39;00m \u001b[39mgetitems\u001b[39m(\n\u001b[1;32m    136\u001b[0m     \u001b[39mself\u001b[39m, keys: Sequence[\u001b[39mstr\u001b[39m], \u001b[39m*\u001b[39m, contexts: Mapping[\u001b[39mstr\u001b[39m, Context]\n\u001b[1;32m    137\u001b[0m ) \u001b[39m-\u001b[39m\u001b[39m>\u001b[39m Mapping[\u001b[39mstr\u001b[39m, Any]:\n\u001b[1;32m    138\u001b[0m \u001b[39m    \u001b[39m\u001b[39m\"\"\"Retrieve data from multiple keys.\u001b[39;00m\n\u001b[1;32m    139\u001b[0m \n\u001b[1;32m    140\u001b[0m \u001b[39m    Parameters\u001b[39;00m\n\u001b[0;32m   (...)\u001b[0m\n\u001b[1;32m    158\u001b[0m \u001b[39m    keys and/or to utilize the contexts.\u001b[39;00m\n\u001b[1;32m    159\u001b[0m \u001b[39m    \"\"\"\u001b[39;00m\n\u001b[0;32m--> 160\u001b[0m     \u001b[39mreturn\u001b[39;00m {k: \u001b[39mself\u001b[39;49m[k] \u001b[39mfor\u001b[39;49;00m k \u001b[39min\u001b[39;49;00m keys \u001b[39mif\u001b[39;49;00m k \u001b[39min\u001b[39;49;00m \u001b[39mself\u001b[39;49m}\n",
      "File \u001b[0;32m~/miniforge3/envs/pytorch-zarr-loader/lib/python3.11/site-packages/zarr/_storage/store.py:160\u001b[0m, in \u001b[0;36m<dictcomp>\u001b[0;34m(.0)\u001b[0m\n\u001b[1;32m    135\u001b[0m \u001b[39mdef\u001b[39;00m \u001b[39mgetitems\u001b[39m(\n\u001b[1;32m    136\u001b[0m     \u001b[39mself\u001b[39m, keys: Sequence[\u001b[39mstr\u001b[39m], \u001b[39m*\u001b[39m, contexts: Mapping[\u001b[39mstr\u001b[39m, Context]\n\u001b[1;32m    137\u001b[0m ) \u001b[39m-\u001b[39m\u001b[39m>\u001b[39m Mapping[\u001b[39mstr\u001b[39m, Any]:\n\u001b[1;32m    138\u001b[0m \u001b[39m    \u001b[39m\u001b[39m\"\"\"Retrieve data from multiple keys.\u001b[39;00m\n\u001b[1;32m    139\u001b[0m \n\u001b[1;32m    140\u001b[0m \u001b[39m    Parameters\u001b[39;00m\n\u001b[0;32m   (...)\u001b[0m\n\u001b[1;32m    158\u001b[0m \u001b[39m    keys and/or to utilize the contexts.\u001b[39;00m\n\u001b[1;32m    159\u001b[0m \u001b[39m    \"\"\"\u001b[39;00m\n\u001b[0;32m--> 160\u001b[0m     \u001b[39mreturn\u001b[39;00m {k: \u001b[39mself\u001b[39;49m[k] \u001b[39mfor\u001b[39;00m k \u001b[39min\u001b[39;00m keys \u001b[39mif\u001b[39;00m k \u001b[39min\u001b[39;00m \u001b[39mself\u001b[39m}\n",
      "File \u001b[0;32m~/miniforge3/envs/pytorch-zarr-loader/lib/python3.11/site-packages/zarr/storage.py:1086\u001b[0m, in \u001b[0;36mDirectoryStore.__getitem__\u001b[0;34m(self, key)\u001b[0m\n\u001b[1;32m   1084\u001b[0m filepath \u001b[39m=\u001b[39m os\u001b[39m.\u001b[39mpath\u001b[39m.\u001b[39mjoin(\u001b[39mself\u001b[39m\u001b[39m.\u001b[39mpath, key)\n\u001b[1;32m   1085\u001b[0m \u001b[39mif\u001b[39;00m os\u001b[39m.\u001b[39mpath\u001b[39m.\u001b[39misfile(filepath):\n\u001b[0;32m-> 1086\u001b[0m     \u001b[39mreturn\u001b[39;00m \u001b[39mself\u001b[39;49m\u001b[39m.\u001b[39;49m_fromfile(filepath)\n\u001b[1;32m   1087\u001b[0m \u001b[39melse\u001b[39;00m:\n\u001b[1;32m   1088\u001b[0m     \u001b[39mraise\u001b[39;00m \u001b[39mKeyError\u001b[39;00m(key)\n",
      "File \u001b[0;32m~/miniforge3/envs/pytorch-zarr-loader/lib/python3.11/site-packages/zarr/storage.py:1061\u001b[0m, in \u001b[0;36mDirectoryStore._fromfile\u001b[0;34m(fn)\u001b[0m\n\u001b[1;32m   1048\u001b[0m \u001b[39m\u001b[39m\u001b[39m\"\"\" Read data from a file\u001b[39;00m\n\u001b[1;32m   1049\u001b[0m \n\u001b[1;32m   1050\u001b[0m \u001b[39mParameters\u001b[39;00m\n\u001b[0;32m   (...)\u001b[0m\n\u001b[1;32m   1058\u001b[0m \u001b[39mfile reading logic.\u001b[39;00m\n\u001b[1;32m   1059\u001b[0m \u001b[39m\"\"\"\u001b[39;00m\n\u001b[1;32m   1060\u001b[0m \u001b[39mwith\u001b[39;00m \u001b[39mopen\u001b[39m(fn, \u001b[39m'\u001b[39m\u001b[39mrb\u001b[39m\u001b[39m'\u001b[39m) \u001b[39mas\u001b[39;00m f:\n\u001b[0;32m-> 1061\u001b[0m     \u001b[39mreturn\u001b[39;00m f\u001b[39m.\u001b[39mread()\n",
      "\u001b[0;31mKeyboardInterrupt\u001b[0m: "
     ]
    }
   ],
   "source": [
    "# turn previous for loop into function for timeit to work\n",
    "def iterate_dl(dl):\n",
    "    timer = time.time()\n",
    "    for i, batch in enumerate(dl):\n",
    "        print(i)\n",
    "        start = time.time()\n",
    "        b = batch.shape\n",
    "\n",
    "        print( (time.time() - timer)/(i + 1))\n",
    "    return (time.time() - timer)/(i + 1)\n",
    "\n",
    "# timeit and add counter of iterations\n",
    "iterate_dl(dl)"
   ]
  },
  {
   "cell_type": "code",
   "execution_count": 65,
   "metadata": {},
   "outputs": [],
   "source": [
    "class ZarrDataset(IterableDataset):\n",
    "    \"\"\"Dataset to extract patches from a zarr storage.\"\"\"\n",
    "\n",
    "    def __init__(\n",
    "            self,\n",
    "            data_path: Union[str, Path],\n",
    "            patch_extraction_method: str,\n",
    "            patch_size: Optional[Union[List[int], Tuple[int]]] = None,\n",
    "            num_patches: Optional[int] = None,\n",
    "            mean: Optional[float] = None,\n",
    "            std: Optional[float] = None,\n",
    "            patch_transform: Optional[Callable] = None,\n",
    "            patch_transform_params: Optional[Dict] = None,\n",
    "            num_load_at_once: int = 20,\n",
    "            n_shuffle_coordinates: int = 20,\n",
    "    ) -> None:\n",
    "        self.data_path = Path(data_path)\n",
    "        self.patch_extraction_method = patch_extraction_method\n",
    "        self.patch_size = patch_size\n",
    "        self.num_patches = num_patches\n",
    "        self.mean = mean\n",
    "        self.std = std\n",
    "        self.patch_transform = patch_transform\n",
    "        self.patch_transform_params = patch_transform_params\n",
    "        self.num_load_at_once = num_load_at_once\n",
    "        self.n_shuffle_coordinates = n_shuffle_coordinates\n",
    "\n",
    "        self.sample = read_zarr(self.data_path)\n",
    "\n",
    "    def __len__(self):\n",
    "        return self.n_shuffle_coordinates * self.num_patches\n",
    "\n",
    "    def __iter__(self):\n",
    "        \"\"\"\n",
    "        Iterate over data source and yield single patch.\n",
    "\n",
    "        Yields\n",
    "        ------\n",
    "        np.ndarray\n",
    "        \"\"\"\n",
    "        worker_info = get_worker_info()\n",
    "        worker_id = worker_info.id if worker_info is not None else 0\n",
    "        num_workers = worker_info.num_workers if worker_info is not None else 1\n",
    "\n",
    "        future = client.submit(extract_patches_random,\n",
    "                               self.sample,\n",
    "                               self.patch_size,\n",
    "                               self.num_load_at_once)\n",
    "\n",
    "        data_in_memory = extract_patches_random(self.sample,\n",
    "                                                self.patch_size,\n",
    "                                                self.num_load_at_once)\n",
    "\n",
    "        print(\"here\")\n",
    "\n",
    "\n",
    "        for _ in range(self.n_shuffle_coordinates):\n",
    "\n",
    "            data_in_memory = future.result()\n",
    "\n",
    "\n",
    "            future = client.submit(extract_patches_random,\n",
    "                                   self.sample,\n",
    "                                   self.patch_size,\n",
    "                                   self.num_load_at_once)\n",
    "\n",
    "\n",
    "            futures = [client.submit(extract_patches_random,\n",
    "                            self.sample,\n",
    "                            self.patch_size,\n",
    "                            self.num_load_at_once)\n",
    "                        for _ in range(num_workers)]\n",
    "\n",
    "\n",
    "            # # Gather results from all workers\n",
    "            data_in_memory2 = client.gather(futures)\n",
    "\n",
    "\n",
    "            for j in range(len(data_in_memory)):\n",
    "                yield data_in_memory[j]\n",
    "7\n",
    "dataset = ZarrDataset(\n",
    "    data_path=test_path,\n",
    "    patch_extraction_method='random',\n",
    "    patch_size=patch_size,\n",
    "    num_load_at_once=20,\n",
    "    n_shuffle_coordinates=100\n",
    ")\n",
    "\n",
    "dl = DataLoader(dataset, batch_size=1, num_workers=5, prefetch_factor=None)"
   ]
  },
  {
   "cell_type": "code",
   "execution_count": 66,
   "metadata": {},
   "outputs": [
    {
     "name": "stdout",
     "output_type": "stream",
     "text": [
      "here\n",
      "here\n",
      "here\n",
      "here\n",
      "here\n"
     ]
    },
    {
     "ename": "KeyboardInterrupt",
     "evalue": "",
     "output_type": "error",
     "traceback": [
      "\u001b[0;31m---------------------------------------------------------------------------\u001b[0m",
      "\u001b[0;31mKeyboardInterrupt\u001b[0m                         Traceback (most recent call last)",
      "\u001b[1;32m/home/clement/Documents/pytorch-zarr-loader/example_ZARR_daskclient.ipynb Cell 14\u001b[0m line \u001b[0;36m1\n\u001b[0;32m----> <a href='vscode-notebook-cell:/home/clement/Documents/pytorch-zarr-loader/example_ZARR_daskclient.ipynb#X40sZmlsZQ%3D%3D?line=0'>1</a>\u001b[0m \u001b[39mnext\u001b[39;49m(\u001b[39miter\u001b[39;49m(dl))\n",
      "File \u001b[0;32m~/miniforge3/envs/pytorch-zarr-loader/lib/python3.11/site-packages/torch/utils/data/dataloader.py:634\u001b[0m, in \u001b[0;36m_BaseDataLoaderIter.__next__\u001b[0;34m(self)\u001b[0m\n\u001b[1;32m    631\u001b[0m \u001b[39mif\u001b[39;00m \u001b[39mself\u001b[39m\u001b[39m.\u001b[39m_sampler_iter \u001b[39mis\u001b[39;00m \u001b[39mNone\u001b[39;00m:\n\u001b[1;32m    632\u001b[0m     \u001b[39m# TODO(https://github.com/pytorch/pytorch/issues/76750)\u001b[39;00m\n\u001b[1;32m    633\u001b[0m     \u001b[39mself\u001b[39m\u001b[39m.\u001b[39m_reset()  \u001b[39m# type: ignore[call-arg]\u001b[39;00m\n\u001b[0;32m--> 634\u001b[0m data \u001b[39m=\u001b[39m \u001b[39mself\u001b[39;49m\u001b[39m.\u001b[39;49m_next_data()\n\u001b[1;32m    635\u001b[0m \u001b[39mself\u001b[39m\u001b[39m.\u001b[39m_num_yielded \u001b[39m+\u001b[39m\u001b[39m=\u001b[39m \u001b[39m1\u001b[39m\n\u001b[1;32m    636\u001b[0m \u001b[39mif\u001b[39;00m \u001b[39mself\u001b[39m\u001b[39m.\u001b[39m_dataset_kind \u001b[39m==\u001b[39m _DatasetKind\u001b[39m.\u001b[39mIterable \u001b[39mand\u001b[39;00m \\\n\u001b[1;32m    637\u001b[0m         \u001b[39mself\u001b[39m\u001b[39m.\u001b[39m_IterableDataset_len_called \u001b[39mis\u001b[39;00m \u001b[39mnot\u001b[39;00m \u001b[39mNone\u001b[39;00m \u001b[39mand\u001b[39;00m \\\n\u001b[1;32m    638\u001b[0m         \u001b[39mself\u001b[39m\u001b[39m.\u001b[39m_num_yielded \u001b[39m>\u001b[39m \u001b[39mself\u001b[39m\u001b[39m.\u001b[39m_IterableDataset_len_called:\n",
      "File \u001b[0;32m~/miniforge3/envs/pytorch-zarr-loader/lib/python3.11/site-packages/torch/utils/data/dataloader.py:1329\u001b[0m, in \u001b[0;36m_MultiProcessingDataLoaderIter._next_data\u001b[0;34m(self)\u001b[0m\n\u001b[1;32m   1326\u001b[0m     \u001b[39mreturn\u001b[39;00m \u001b[39mself\u001b[39m\u001b[39m.\u001b[39m_process_data(data)\n\u001b[1;32m   1328\u001b[0m \u001b[39massert\u001b[39;00m \u001b[39mnot\u001b[39;00m \u001b[39mself\u001b[39m\u001b[39m.\u001b[39m_shutdown \u001b[39mand\u001b[39;00m \u001b[39mself\u001b[39m\u001b[39m.\u001b[39m_tasks_outstanding \u001b[39m>\u001b[39m \u001b[39m0\u001b[39m\n\u001b[0;32m-> 1329\u001b[0m idx, data \u001b[39m=\u001b[39m \u001b[39mself\u001b[39;49m\u001b[39m.\u001b[39;49m_get_data()\n\u001b[1;32m   1330\u001b[0m \u001b[39mself\u001b[39m\u001b[39m.\u001b[39m_tasks_outstanding \u001b[39m-\u001b[39m\u001b[39m=\u001b[39m \u001b[39m1\u001b[39m\n\u001b[1;32m   1331\u001b[0m \u001b[39mif\u001b[39;00m \u001b[39mself\u001b[39m\u001b[39m.\u001b[39m_dataset_kind \u001b[39m==\u001b[39m _DatasetKind\u001b[39m.\u001b[39mIterable:\n\u001b[1;32m   1332\u001b[0m     \u001b[39m# Check for _IterableDatasetStopIteration\u001b[39;00m\n",
      "File \u001b[0;32m~/miniforge3/envs/pytorch-zarr-loader/lib/python3.11/site-packages/torch/utils/data/dataloader.py:1295\u001b[0m, in \u001b[0;36m_MultiProcessingDataLoaderIter._get_data\u001b[0;34m(self)\u001b[0m\n\u001b[1;32m   1291\u001b[0m     \u001b[39m# In this case, `self._data_queue` is a `queue.Queue`,. But we don't\u001b[39;00m\n\u001b[1;32m   1292\u001b[0m     \u001b[39m# need to call `.task_done()` because we don't use `.join()`.\u001b[39;00m\n\u001b[1;32m   1293\u001b[0m \u001b[39melse\u001b[39;00m:\n\u001b[1;32m   1294\u001b[0m     \u001b[39mwhile\u001b[39;00m \u001b[39mTrue\u001b[39;00m:\n\u001b[0;32m-> 1295\u001b[0m         success, data \u001b[39m=\u001b[39m \u001b[39mself\u001b[39;49m\u001b[39m.\u001b[39;49m_try_get_data()\n\u001b[1;32m   1296\u001b[0m         \u001b[39mif\u001b[39;00m success:\n\u001b[1;32m   1297\u001b[0m             \u001b[39mreturn\u001b[39;00m data\n",
      "File \u001b[0;32m~/miniforge3/envs/pytorch-zarr-loader/lib/python3.11/site-packages/torch/utils/data/dataloader.py:1133\u001b[0m, in \u001b[0;36m_MultiProcessingDataLoaderIter._try_get_data\u001b[0;34m(self, timeout)\u001b[0m\n\u001b[1;32m   1120\u001b[0m \u001b[39mdef\u001b[39;00m \u001b[39m_try_get_data\u001b[39m(\u001b[39mself\u001b[39m, timeout\u001b[39m=\u001b[39m_utils\u001b[39m.\u001b[39mMP_STATUS_CHECK_INTERVAL):\n\u001b[1;32m   1121\u001b[0m     \u001b[39m# Tries to fetch data from `self._data_queue` once for a given timeout.\u001b[39;00m\n\u001b[1;32m   1122\u001b[0m     \u001b[39m# This can also be used as inner loop of fetching without timeout, with\u001b[39;00m\n\u001b[0;32m   (...)\u001b[0m\n\u001b[1;32m   1130\u001b[0m     \u001b[39m# Returns a 2-tuple:\u001b[39;00m\n\u001b[1;32m   1131\u001b[0m     \u001b[39m#   (bool: whether successfully get data, any: data if successful else None)\u001b[39;00m\n\u001b[1;32m   1132\u001b[0m     \u001b[39mtry\u001b[39;00m:\n\u001b[0;32m-> 1133\u001b[0m         data \u001b[39m=\u001b[39m \u001b[39mself\u001b[39;49m\u001b[39m.\u001b[39;49m_data_queue\u001b[39m.\u001b[39;49mget(timeout\u001b[39m=\u001b[39;49mtimeout)\n\u001b[1;32m   1134\u001b[0m         \u001b[39mreturn\u001b[39;00m (\u001b[39mTrue\u001b[39;00m, data)\n\u001b[1;32m   1135\u001b[0m     \u001b[39mexcept\u001b[39;00m \u001b[39mException\u001b[39;00m \u001b[39mas\u001b[39;00m e:\n\u001b[1;32m   1136\u001b[0m         \u001b[39m# At timeout and error, we manually check whether any worker has\u001b[39;00m\n\u001b[1;32m   1137\u001b[0m         \u001b[39m# failed. Note that this is the only mechanism for Windows to detect\u001b[39;00m\n\u001b[1;32m   1138\u001b[0m         \u001b[39m# worker failures.\u001b[39;00m\n",
      "File \u001b[0;32m~/miniforge3/envs/pytorch-zarr-loader/lib/python3.11/multiprocessing/queues.py:113\u001b[0m, in \u001b[0;36mQueue.get\u001b[0;34m(self, block, timeout)\u001b[0m\n\u001b[1;32m    111\u001b[0m \u001b[39mif\u001b[39;00m block:\n\u001b[1;32m    112\u001b[0m     timeout \u001b[39m=\u001b[39m deadline \u001b[39m-\u001b[39m time\u001b[39m.\u001b[39mmonotonic()\n\u001b[0;32m--> 113\u001b[0m     \u001b[39mif\u001b[39;00m \u001b[39mnot\u001b[39;00m \u001b[39mself\u001b[39;49m\u001b[39m.\u001b[39;49m_poll(timeout):\n\u001b[1;32m    114\u001b[0m         \u001b[39mraise\u001b[39;00m Empty\n\u001b[1;32m    115\u001b[0m \u001b[39melif\u001b[39;00m \u001b[39mnot\u001b[39;00m \u001b[39mself\u001b[39m\u001b[39m.\u001b[39m_poll():\n",
      "File \u001b[0;32m~/miniforge3/envs/pytorch-zarr-loader/lib/python3.11/multiprocessing/connection.py:257\u001b[0m, in \u001b[0;36m_ConnectionBase.poll\u001b[0;34m(self, timeout)\u001b[0m\n\u001b[1;32m    255\u001b[0m \u001b[39mself\u001b[39m\u001b[39m.\u001b[39m_check_closed()\n\u001b[1;32m    256\u001b[0m \u001b[39mself\u001b[39m\u001b[39m.\u001b[39m_check_readable()\n\u001b[0;32m--> 257\u001b[0m \u001b[39mreturn\u001b[39;00m \u001b[39mself\u001b[39;49m\u001b[39m.\u001b[39;49m_poll(timeout)\n",
      "File \u001b[0;32m~/miniforge3/envs/pytorch-zarr-loader/lib/python3.11/multiprocessing/connection.py:440\u001b[0m, in \u001b[0;36mConnection._poll\u001b[0;34m(self, timeout)\u001b[0m\n\u001b[1;32m    439\u001b[0m \u001b[39mdef\u001b[39;00m \u001b[39m_poll\u001b[39m(\u001b[39mself\u001b[39m, timeout):\n\u001b[0;32m--> 440\u001b[0m     r \u001b[39m=\u001b[39m wait([\u001b[39mself\u001b[39;49m], timeout)\n\u001b[1;32m    441\u001b[0m     \u001b[39mreturn\u001b[39;00m \u001b[39mbool\u001b[39m(r)\n",
      "File \u001b[0;32m~/miniforge3/envs/pytorch-zarr-loader/lib/python3.11/multiprocessing/connection.py:947\u001b[0m, in \u001b[0;36mwait\u001b[0;34m(object_list, timeout)\u001b[0m\n\u001b[1;32m    944\u001b[0m     deadline \u001b[39m=\u001b[39m time\u001b[39m.\u001b[39mmonotonic() \u001b[39m+\u001b[39m timeout\n\u001b[1;32m    946\u001b[0m \u001b[39mwhile\u001b[39;00m \u001b[39mTrue\u001b[39;00m:\n\u001b[0;32m--> 947\u001b[0m     ready \u001b[39m=\u001b[39m selector\u001b[39m.\u001b[39;49mselect(timeout)\n\u001b[1;32m    948\u001b[0m     \u001b[39mif\u001b[39;00m ready:\n\u001b[1;32m    949\u001b[0m         \u001b[39mreturn\u001b[39;00m [key\u001b[39m.\u001b[39mfileobj \u001b[39mfor\u001b[39;00m (key, events) \u001b[39min\u001b[39;00m ready]\n",
      "File \u001b[0;32m~/miniforge3/envs/pytorch-zarr-loader/lib/python3.11/selectors.py:415\u001b[0m, in \u001b[0;36m_PollLikeSelector.select\u001b[0;34m(self, timeout)\u001b[0m\n\u001b[1;32m    413\u001b[0m ready \u001b[39m=\u001b[39m []\n\u001b[1;32m    414\u001b[0m \u001b[39mtry\u001b[39;00m:\n\u001b[0;32m--> 415\u001b[0m     fd_event_list \u001b[39m=\u001b[39m \u001b[39mself\u001b[39m\u001b[39m.\u001b[39m_selector\u001b[39m.\u001b[39mpoll(timeout)\n\u001b[1;32m    416\u001b[0m \u001b[39mexcept\u001b[39;00m \u001b[39mInterruptedError\u001b[39;00m:\n\u001b[1;32m    417\u001b[0m     \u001b[39mreturn\u001b[39;00m ready\n",
      "\u001b[0;31mKeyboardInterrupt\u001b[0m: "
     ]
    }
   ],
   "source": [
    "next(iter(dl))"
   ]
  },
  {
   "cell_type": "code",
   "execution_count": 62,
   "metadata": {},
   "outputs": [
    {
     "name": "stderr",
     "output_type": "stream",
     "text": [
      "0it [02:15, ?it/s]\n"
     ]
    },
    {
     "ename": "KeyboardInterrupt",
     "evalue": "",
     "output_type": "error",
     "traceback": [
      "\u001b[0;31m---------------------------------------------------------------------------\u001b[0m",
      "\u001b[0;31mKeyboardInterrupt\u001b[0m                         Traceback (most recent call last)",
      "\u001b[1;32m/home/clement/Documents/pytorch-zarr-loader/example_ZARR_daskclient.ipynb Cell 14\u001b[0m line \u001b[0;36m3\n\u001b[1;32m      <a href='vscode-notebook-cell:/home/clement/Documents/pytorch-zarr-loader/example_ZARR_daskclient.ipynb#X20sZmlsZQ%3D%3D?line=0'>1</a>\u001b[0m \u001b[39mfrom\u001b[39;00m \u001b[39mtqdm\u001b[39;00m \u001b[39mimport\u001b[39;00m tqdm\n\u001b[0;32m----> <a href='vscode-notebook-cell:/home/clement/Documents/pytorch-zarr-loader/example_ZARR_daskclient.ipynb#X20sZmlsZQ%3D%3D?line=2'>3</a>\u001b[0m \u001b[39mfor\u001b[39;49;00m X \u001b[39min\u001b[39;49;00m tqdm(dl):\n\u001b[1;32m      <a href='vscode-notebook-cell:/home/clement/Documents/pytorch-zarr-loader/example_ZARR_daskclient.ipynb#X20sZmlsZQ%3D%3D?line=3'>4</a>\u001b[0m     np\u001b[39m.\u001b[39;49mmatmul(X, X)\n",
      "File \u001b[0;32m~/miniforge3/envs/pytorch-zarr-loader/lib/python3.11/site-packages/tqdm/std.py:1182\u001b[0m, in \u001b[0;36mtqdm.__iter__\u001b[0;34m(self)\u001b[0m\n\u001b[1;32m   1179\u001b[0m time \u001b[39m=\u001b[39m \u001b[39mself\u001b[39m\u001b[39m.\u001b[39m_time\n\u001b[1;32m   1181\u001b[0m \u001b[39mtry\u001b[39;00m:\n\u001b[0;32m-> 1182\u001b[0m     \u001b[39mfor\u001b[39;49;00m obj \u001b[39min\u001b[39;49;00m iterable:\n\u001b[1;32m   1183\u001b[0m         \u001b[39myield\u001b[39;49;00m obj\n\u001b[1;32m   1184\u001b[0m         \u001b[39m# Update and possibly print the progressbar.\u001b[39;49;00m\n\u001b[1;32m   1185\u001b[0m         \u001b[39m# Note: does not call self.update(1) for speed optimisation.\u001b[39;49;00m\n",
      "File \u001b[0;32m~/miniforge3/envs/pytorch-zarr-loader/lib/python3.11/site-packages/torch/utils/data/dataloader.py:634\u001b[0m, in \u001b[0;36m_BaseDataLoaderIter.__next__\u001b[0;34m(self)\u001b[0m\n\u001b[1;32m    631\u001b[0m \u001b[39mif\u001b[39;00m \u001b[39mself\u001b[39m\u001b[39m.\u001b[39m_sampler_iter \u001b[39mis\u001b[39;00m \u001b[39mNone\u001b[39;00m:\n\u001b[1;32m    632\u001b[0m     \u001b[39m# TODO(https://github.com/pytorch/pytorch/issues/76750)\u001b[39;00m\n\u001b[1;32m    633\u001b[0m     \u001b[39mself\u001b[39m\u001b[39m.\u001b[39m_reset()  \u001b[39m# type: ignore[call-arg]\u001b[39;00m\n\u001b[0;32m--> 634\u001b[0m data \u001b[39m=\u001b[39m \u001b[39mself\u001b[39;49m\u001b[39m.\u001b[39;49m_next_data()\n\u001b[1;32m    635\u001b[0m \u001b[39mself\u001b[39m\u001b[39m.\u001b[39m_num_yielded \u001b[39m+\u001b[39m\u001b[39m=\u001b[39m \u001b[39m1\u001b[39m\n\u001b[1;32m    636\u001b[0m \u001b[39mif\u001b[39;00m \u001b[39mself\u001b[39m\u001b[39m.\u001b[39m_dataset_kind \u001b[39m==\u001b[39m _DatasetKind\u001b[39m.\u001b[39mIterable \u001b[39mand\u001b[39;00m \\\n\u001b[1;32m    637\u001b[0m         \u001b[39mself\u001b[39m\u001b[39m.\u001b[39m_IterableDataset_len_called \u001b[39mis\u001b[39;00m \u001b[39mnot\u001b[39;00m \u001b[39mNone\u001b[39;00m \u001b[39mand\u001b[39;00m \\\n\u001b[1;32m    638\u001b[0m         \u001b[39mself\u001b[39m\u001b[39m.\u001b[39m_num_yielded \u001b[39m>\u001b[39m \u001b[39mself\u001b[39m\u001b[39m.\u001b[39m_IterableDataset_len_called:\n",
      "File \u001b[0;32m~/miniforge3/envs/pytorch-zarr-loader/lib/python3.11/site-packages/torch/utils/data/dataloader.py:1329\u001b[0m, in \u001b[0;36m_MultiProcessingDataLoaderIter._next_data\u001b[0;34m(self)\u001b[0m\n\u001b[1;32m   1326\u001b[0m     \u001b[39mreturn\u001b[39;00m \u001b[39mself\u001b[39m\u001b[39m.\u001b[39m_process_data(data)\n\u001b[1;32m   1328\u001b[0m \u001b[39massert\u001b[39;00m \u001b[39mnot\u001b[39;00m \u001b[39mself\u001b[39m\u001b[39m.\u001b[39m_shutdown \u001b[39mand\u001b[39;00m \u001b[39mself\u001b[39m\u001b[39m.\u001b[39m_tasks_outstanding \u001b[39m>\u001b[39m \u001b[39m0\u001b[39m\n\u001b[0;32m-> 1329\u001b[0m idx, data \u001b[39m=\u001b[39m \u001b[39mself\u001b[39;49m\u001b[39m.\u001b[39;49m_get_data()\n\u001b[1;32m   1330\u001b[0m \u001b[39mself\u001b[39m\u001b[39m.\u001b[39m_tasks_outstanding \u001b[39m-\u001b[39m\u001b[39m=\u001b[39m \u001b[39m1\u001b[39m\n\u001b[1;32m   1331\u001b[0m \u001b[39mif\u001b[39;00m \u001b[39mself\u001b[39m\u001b[39m.\u001b[39m_dataset_kind \u001b[39m==\u001b[39m _DatasetKind\u001b[39m.\u001b[39mIterable:\n\u001b[1;32m   1332\u001b[0m     \u001b[39m# Check for _IterableDatasetStopIteration\u001b[39;00m\n",
      "File \u001b[0;32m~/miniforge3/envs/pytorch-zarr-loader/lib/python3.11/site-packages/torch/utils/data/dataloader.py:1295\u001b[0m, in \u001b[0;36m_MultiProcessingDataLoaderIter._get_data\u001b[0;34m(self)\u001b[0m\n\u001b[1;32m   1291\u001b[0m     \u001b[39m# In this case, `self._data_queue` is a `queue.Queue`,. But we don't\u001b[39;00m\n\u001b[1;32m   1292\u001b[0m     \u001b[39m# need to call `.task_done()` because we don't use `.join()`.\u001b[39;00m\n\u001b[1;32m   1293\u001b[0m \u001b[39melse\u001b[39;00m:\n\u001b[1;32m   1294\u001b[0m     \u001b[39mwhile\u001b[39;00m \u001b[39mTrue\u001b[39;00m:\n\u001b[0;32m-> 1295\u001b[0m         success, data \u001b[39m=\u001b[39m \u001b[39mself\u001b[39;49m\u001b[39m.\u001b[39;49m_try_get_data()\n\u001b[1;32m   1296\u001b[0m         \u001b[39mif\u001b[39;00m success:\n\u001b[1;32m   1297\u001b[0m             \u001b[39mreturn\u001b[39;00m data\n",
      "File \u001b[0;32m~/miniforge3/envs/pytorch-zarr-loader/lib/python3.11/site-packages/torch/utils/data/dataloader.py:1133\u001b[0m, in \u001b[0;36m_MultiProcessingDataLoaderIter._try_get_data\u001b[0;34m(self, timeout)\u001b[0m\n\u001b[1;32m   1120\u001b[0m \u001b[39mdef\u001b[39;00m \u001b[39m_try_get_data\u001b[39m(\u001b[39mself\u001b[39m, timeout\u001b[39m=\u001b[39m_utils\u001b[39m.\u001b[39mMP_STATUS_CHECK_INTERVAL):\n\u001b[1;32m   1121\u001b[0m     \u001b[39m# Tries to fetch data from `self._data_queue` once for a given timeout.\u001b[39;00m\n\u001b[1;32m   1122\u001b[0m     \u001b[39m# This can also be used as inner loop of fetching without timeout, with\u001b[39;00m\n\u001b[0;32m   (...)\u001b[0m\n\u001b[1;32m   1130\u001b[0m     \u001b[39m# Returns a 2-tuple:\u001b[39;00m\n\u001b[1;32m   1131\u001b[0m     \u001b[39m#   (bool: whether successfully get data, any: data if successful else None)\u001b[39;00m\n\u001b[1;32m   1132\u001b[0m     \u001b[39mtry\u001b[39;00m:\n\u001b[0;32m-> 1133\u001b[0m         data \u001b[39m=\u001b[39m \u001b[39mself\u001b[39;49m\u001b[39m.\u001b[39;49m_data_queue\u001b[39m.\u001b[39;49mget(timeout\u001b[39m=\u001b[39;49mtimeout)\n\u001b[1;32m   1134\u001b[0m         \u001b[39mreturn\u001b[39;00m (\u001b[39mTrue\u001b[39;00m, data)\n\u001b[1;32m   1135\u001b[0m     \u001b[39mexcept\u001b[39;00m \u001b[39mException\u001b[39;00m \u001b[39mas\u001b[39;00m e:\n\u001b[1;32m   1136\u001b[0m         \u001b[39m# At timeout and error, we manually check whether any worker has\u001b[39;00m\n\u001b[1;32m   1137\u001b[0m         \u001b[39m# failed. Note that this is the only mechanism for Windows to detect\u001b[39;00m\n\u001b[1;32m   1138\u001b[0m         \u001b[39m# worker failures.\u001b[39;00m\n",
      "File \u001b[0;32m~/miniforge3/envs/pytorch-zarr-loader/lib/python3.11/multiprocessing/queues.py:113\u001b[0m, in \u001b[0;36mQueue.get\u001b[0;34m(self, block, timeout)\u001b[0m\n\u001b[1;32m    111\u001b[0m \u001b[39mif\u001b[39;00m block:\n\u001b[1;32m    112\u001b[0m     timeout \u001b[39m=\u001b[39m deadline \u001b[39m-\u001b[39m time\u001b[39m.\u001b[39mmonotonic()\n\u001b[0;32m--> 113\u001b[0m     \u001b[39mif\u001b[39;00m \u001b[39mnot\u001b[39;00m \u001b[39mself\u001b[39;49m\u001b[39m.\u001b[39;49m_poll(timeout):\n\u001b[1;32m    114\u001b[0m         \u001b[39mraise\u001b[39;00m Empty\n\u001b[1;32m    115\u001b[0m \u001b[39melif\u001b[39;00m \u001b[39mnot\u001b[39;00m \u001b[39mself\u001b[39m\u001b[39m.\u001b[39m_poll():\n",
      "File \u001b[0;32m~/miniforge3/envs/pytorch-zarr-loader/lib/python3.11/multiprocessing/connection.py:257\u001b[0m, in \u001b[0;36m_ConnectionBase.poll\u001b[0;34m(self, timeout)\u001b[0m\n\u001b[1;32m    255\u001b[0m \u001b[39mself\u001b[39m\u001b[39m.\u001b[39m_check_closed()\n\u001b[1;32m    256\u001b[0m \u001b[39mself\u001b[39m\u001b[39m.\u001b[39m_check_readable()\n\u001b[0;32m--> 257\u001b[0m \u001b[39mreturn\u001b[39;00m \u001b[39mself\u001b[39;49m\u001b[39m.\u001b[39;49m_poll(timeout)\n",
      "File \u001b[0;32m~/miniforge3/envs/pytorch-zarr-loader/lib/python3.11/multiprocessing/connection.py:440\u001b[0m, in \u001b[0;36mConnection._poll\u001b[0;34m(self, timeout)\u001b[0m\n\u001b[1;32m    439\u001b[0m \u001b[39mdef\u001b[39;00m \u001b[39m_poll\u001b[39m(\u001b[39mself\u001b[39m, timeout):\n\u001b[0;32m--> 440\u001b[0m     r \u001b[39m=\u001b[39m wait([\u001b[39mself\u001b[39;49m], timeout)\n\u001b[1;32m    441\u001b[0m     \u001b[39mreturn\u001b[39;00m \u001b[39mbool\u001b[39m(r)\n",
      "File \u001b[0;32m~/miniforge3/envs/pytorch-zarr-loader/lib/python3.11/multiprocessing/connection.py:947\u001b[0m, in \u001b[0;36mwait\u001b[0;34m(object_list, timeout)\u001b[0m\n\u001b[1;32m    944\u001b[0m     deadline \u001b[39m=\u001b[39m time\u001b[39m.\u001b[39mmonotonic() \u001b[39m+\u001b[39m timeout\n\u001b[1;32m    946\u001b[0m \u001b[39mwhile\u001b[39;00m \u001b[39mTrue\u001b[39;00m:\n\u001b[0;32m--> 947\u001b[0m     ready \u001b[39m=\u001b[39m selector\u001b[39m.\u001b[39;49mselect(timeout)\n\u001b[1;32m    948\u001b[0m     \u001b[39mif\u001b[39;00m ready:\n\u001b[1;32m    949\u001b[0m         \u001b[39mreturn\u001b[39;00m [key\u001b[39m.\u001b[39mfileobj \u001b[39mfor\u001b[39;00m (key, events) \u001b[39min\u001b[39;00m ready]\n",
      "File \u001b[0;32m~/miniforge3/envs/pytorch-zarr-loader/lib/python3.11/selectors.py:415\u001b[0m, in \u001b[0;36m_PollLikeSelector.select\u001b[0;34m(self, timeout)\u001b[0m\n\u001b[1;32m    413\u001b[0m ready \u001b[39m=\u001b[39m []\n\u001b[1;32m    414\u001b[0m \u001b[39mtry\u001b[39;00m:\n\u001b[0;32m--> 415\u001b[0m     fd_event_list \u001b[39m=\u001b[39m \u001b[39mself\u001b[39m\u001b[39m.\u001b[39m_selector\u001b[39m.\u001b[39mpoll(timeout)\n\u001b[1;32m    416\u001b[0m \u001b[39mexcept\u001b[39;00m \u001b[39mInterruptedError\u001b[39;00m:\n\u001b[1;32m    417\u001b[0m     \u001b[39mreturn\u001b[39;00m ready\n",
      "\u001b[0;31mKeyboardInterrupt\u001b[0m: "
     ]
    }
   ],
   "source": [
    "from tqdm import tqdm\n",
    "\n",
    "for X in tqdm(dl):\n",
    "    np.matmul(X, X)"
   ]
  }
 ],
 "metadata": {
  "kernelspec": {
   "display_name": "Python 3.9.13 ('HDNn')",
   "language": "python",
   "name": "python3"
  },
  "language_info": {
   "codemirror_mode": {
    "name": "ipython",
    "version": 3
   },
   "file_extension": ".py",
   "mimetype": "text/x-python",
   "name": "python",
   "nbconvert_exporter": "python",
   "pygments_lexer": "ipython3",
   "version": "3.11.6"
  },
  "vscode": {
   "interpreter": {
    "hash": "faf8b084d52efbff00ddf863c4fb0ca7a3b023f9f18590a5b65c31dc02d793e2"
   }
  }
 },
 "nbformat": 4,
 "nbformat_minor": 2
}
