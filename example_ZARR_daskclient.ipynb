{
 "cells": [
  {
   "cell_type": "code",
   "execution_count": 1,
   "metadata": {},
   "outputs": [],
   "source": [
    "\n",
    "from itertools import islice\n",
    "from pathlib import Path\n",
    "from typing import List, Tuple, Union, Optional, Callable, Dict, Generator\n",
    "import time\n",
    "import numpy as np\n",
    "import zarr\n",
    "from torch.utils.data import DataLoader, IterableDataset, get_worker_info\n",
    "from dask.distributed import Client, get_client\n",
    "\n",
    "from timeit import timeit, time\n"
   ]
  },
  {
   "cell_type": "code",
   "execution_count": 2,
   "metadata": {},
   "outputs": [],
   "source": [
    "test_path = Path('.') / 'data' / 'test_ngff_image.zarr/0' \n",
    "patch_size = (64, 64)"
   ]
  },
  {
   "cell_type": "code",
   "execution_count": 3,
   "metadata": {},
   "outputs": [],
   "source": [
    "def read_zarr(file_path: Path) -> Union[zarr.core.Array, zarr.storage.DirectoryStore, zarr.hierarchy.Group]:\n",
    "    \"\"\"Reads a file and returns a pointer.\n",
    "\n",
    "    Parameters\n",
    "    ----------\n",
    "    file_path : Path\n",
    "        pathlib.Path object containing a path to a file\n",
    "\n",
    "    Returns\n",
    "    -------\n",
    "    np.ndarray\n",
    "        Pointer to zarr storage\n",
    "\n",
    "    Raises\n",
    "    ------\n",
    "    ValueError, OSError\n",
    "        if a file is not a valid tiff or damaged\n",
    "    ValueError\n",
    "        if data dimensions are not 2, 3 or 4\n",
    "    ValueError\n",
    "        if axes parameter from config is not consistent with data dimensions\n",
    "    \"\"\"\n",
    "    zarr_source = zarr.open(Path(file_path), mode=\"r\")\n",
    "    \n",
    "    \"\"\"\n",
    "    if isinstance(zarr_source, zarr.hierarchy.Group):\n",
    "        raise NotImplementedError(\"Group not supported yet\")\n",
    "\n",
    "    elif isinstance(zarr_source, zarr.storage.DirectoryStore):\n",
    "        raise NotImplementedError(\"DirectoryStore not supported yet\")\n",
    "\n",
    "    elif isinstance(zarr_source, zarr.core.Array):\n",
    "        # array should be of shape (S, (C), (Z), Y, X), iterating over S ?\n",
    "        # TODO what if array is not of that shape and/or chunks aren't defined and\n",
    "        if zarr_source.dtype == \"O\":\n",
    "            raise NotImplementedError(\"Object type not supported yet\")\n",
    "        else:\n",
    "            array = zarr_source\n",
    "    else:\n",
    "        raise ValueError(f\"Unsupported zarr object type {type(zarr_source)}\")\n",
    "\n",
    "    # TODO how to fix dimensions? Or just raise error?\n",
    "    # sanity check on dimensions\n",
    "    if len(array.shape) < 2 or len(array.shape) > 4:\n",
    "        raise ValueError(\n",
    "            f\"Incorrect data dimensions. Must be 2, 3 or 4 (got {array.shape}).\"\n",
    "        )\n",
    "    \"\"\"\n",
    "    return zarr_source"
   ]
  },
  {
   "cell_type": "code",
   "execution_count": 4,
   "metadata": {},
   "outputs": [],
   "source": [
    "import numpy as np\n",
    "from typing import List, Tuple, Union\n",
    "\n",
    "def extract_patches_random(arr: np.ndarray,\n",
    "                           patch_size: Union[List[int], Tuple[int, ...]],\n",
    "                           num_patches: int) -> List[np.ndarray]:\n",
    "    \"\"\"\n",
    "    Extract a specified number of patches from an array in a random manner.\n",
    "\n",
    "    Parameters\n",
    "    ----------\n",
    "    arr : np.ndarray\n",
    "        Input array from which to extract patches.\n",
    "    patch_size : Tuple[int, ...]\n",
    "        Patch sizes in each dimension.\n",
    "    num_patches : int\n",
    "        Number of patches to return.\n",
    "\n",
    "    Returns\n",
    "    -------\n",
    "    List[np.ndarray]\n",
    "        List of randomly selected patches.\n",
    "    \"\"\"\n",
    "\n",
    "    rng = np.random.default_rng()\n",
    "    patches = []\n",
    "    patch_centers_x = np.random.randint(low=patch_size[0] // 2,\n",
    "                                        high=arr.shape[-1] - patch_size[0] // 2,\n",
    "                                        size=num_patches)\n",
    "    patch_centers_y = np.random.randint(low=patch_size[1] // 2,\n",
    "                                        high=arr.shape[-2] - patch_size[1] // 2,\n",
    "                                        size=num_patches)\n",
    "    slice_indeces = np.random.randint(low=0, high=arr.shape[0], size=num_patches)\n",
    "    \n",
    "    for i, x, y in zip(slice_indeces, patch_centers_x, patch_centers_y):\n",
    "        patch = arr[i, \n",
    "                    y - patch_size[1] // 2 : y + patch_size[1] // 2,\n",
    "                    x - patch_size[0] // 2 : x + patch_size[0] // 2]\n",
    "\n",
    "        patches.append(patch)\n",
    "\n",
    "    return np.stack(patches)\n"
   ]
  },
  {
   "cell_type": "code",
   "execution_count": 5,
   "metadata": {},
   "outputs": [
    {
     "name": "stderr",
     "output_type": "stream",
     "text": [
      "c:\\Users\\johamuel\\AppData\\Local\\mambaforge\\envs\\pytorch-2d-unet\\lib\\site-packages\\distributed\\node.py:182: UserWarning: Port 8787 is already in use.\n",
      "Perhaps you already have a cluster running?\n",
      "Hosting the HTTP server on port 65013 instead\n",
      "  warnings.warn(\n"
     ]
    },
    {
     "data": {
      "text/plain": [
       "'http://127.0.0.1:65013/status'"
      ]
     },
     "execution_count": 5,
     "metadata": {},
     "output_type": "execute_result"
    }
   ],
   "source": [
    "try:\n",
    "    client = get_client()\n",
    "except ValueError:\n",
    "    client = Client()\n",
    "client.dashboard_link"
   ]
  },
  {
   "cell_type": "code",
   "execution_count": 6,
   "metadata": {},
   "outputs": [],
   "source": [
    "class ZarrDataset(IterableDataset):\n",
    "    \"\"\"Dataset to extract patches from a zarr storage.\"\"\"\n",
    "\n",
    "    def __init__(\n",
    "            self,\n",
    "            data_path: Union[str, Path],\n",
    "            patch_extraction_method: str,\n",
    "            patch_size: Optional[Union[List[int], Tuple[int]]] = None,\n",
    "            num_patches: Optional[int] = None,\n",
    "            mean: Optional[float] = None,\n",
    "            std: Optional[float] = None,\n",
    "            patch_transform: Optional[Callable] = None,\n",
    "            patch_transform_params: Optional[Dict] = None,\n",
    "            num_load_at_once: int = 20,\n",
    "            n_shuffle_coordinates: int = 20,\n",
    "    ) -> None:\n",
    "        self.data_path = Path(data_path)\n",
    "        self.patch_extraction_method = patch_extraction_method\n",
    "        self.patch_size = patch_size\n",
    "        self.num_patches = num_patches\n",
    "        self.mean = mean\n",
    "        self.std = std\n",
    "        self.patch_transform = patch_transform\n",
    "        self.patch_transform_params = patch_transform_params\n",
    "        self.num_load_at_once = num_load_at_once\n",
    "        self.n_shuffle_coordinates = n_shuffle_coordinates\n",
    "\n",
    "        self.sample = read_zarr(self.data_path)\n",
    "\n",
    "    def __iter__(self):\n",
    "        \"\"\"\n",
    "        Iterate over data source and yield single patch.\n",
    "\n",
    "        Yields\n",
    "        ------\n",
    "        np.ndarray\n",
    "        \"\"\"\n",
    "        worker_info = get_worker_info()\n",
    "        worker_id = worker_info.id if worker_info is not None else 0\n",
    "        num_workers = worker_info.num_workers if worker_info is not None else 1\n",
    "        \n",
    "        future = client.submit(extract_patches_random,\n",
    "                               self.sample,\n",
    "                               self.patch_size,\n",
    "                               self.num_load_at_once)\n",
    "\n",
    "        for _ in range(self.n_shuffle_coordinates):\n",
    "            data_in_memory = future.result()\n",
    "            future = client.submit(extract_patches_random,\n",
    "                                   self.sample,\n",
    "                                   self.patch_size,\n",
    "                                   self.num_load_at_once)\n",
    "\n",
    "            for j in range(len(data_in_memory)):\n",
    "                yield data_in_memory[j]\n"
   ]
  },
  {
   "cell_type": "code",
   "execution_count": 7,
   "metadata": {},
   "outputs": [],
   "source": [
    "dataset = ZarrDataset(\n",
    "    data_path=test_path,\n",
    "    patch_extraction_method='random',\n",
    "    patch_size=patch_size,\n",
    "    num_load_at_once=20,\n",
    "    n_shuffle_coordinates=100\n",
    ")\n",
    "\n",
    "dl = DataLoader(dataset, batch_size=128, num_workers=0)"
   ]
  },
  {
   "cell_type": "code",
   "execution_count": 8,
   "metadata": {},
   "outputs": [
    {
     "data": {
      "text/plain": [
       "0.3090398907661438"
      ]
     },
     "execution_count": 8,
     "metadata": {},
     "output_type": "execute_result"
    }
   ],
   "source": [
    "# turn previous for loop into function for timeit to work\n",
    "def iterate_dl(dl):\n",
    "    timer = time.time()\n",
    "    for i, batch in enumerate(dl):\n",
    "        start = time.time()\n",
    "        b = batch.shape\n",
    "    return (time.time() - timer)/(i + 1)\n",
    "\n",
    "# timeit and add counter of iterations\n",
    "iterate_dl(dl)"
   ]
  },
  {
   "cell_type": "code",
   "execution_count": null,
   "metadata": {},
   "outputs": [],
   "source": []
  }
 ],
 "metadata": {
  "kernelspec": {
   "display_name": "Python 3.9.13 ('HDNn')",
   "language": "python",
   "name": "python3"
  },
  "language_info": {
   "codemirror_mode": {
    "name": "ipython",
    "version": 3
   },
   "file_extension": ".py",
   "mimetype": "text/x-python",
   "name": "python",
   "nbconvert_exporter": "python",
   "pygments_lexer": "ipython3",
   "version": "3.9.17"
  },
  "vscode": {
   "interpreter": {
    "hash": "faf8b084d52efbff00ddf863c4fb0ca7a3b023f9f18590a5b65c31dc02d793e2"
   }
  }
 },
 "nbformat": 4,
 "nbformat_minor": 2
}
