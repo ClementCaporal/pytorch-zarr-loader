{
 "cells": [
  {
   "cell_type": "code",
   "execution_count": 1,
   "metadata": {},
   "outputs": [],
   "source": [
    "\n",
    "from itertools import islice\n",
    "from pathlib import Path\n",
    "from typing import List, Tuple, Union, Optional, Callable, Dict, Generator\n",
    "\n",
    "import numpy as np\n",
    "import zarr\n",
    "from torch.utils.data import DataLoader, IterableDataset, get_worker_info\n",
    "from dask.distributed import Client, get_client\n"
   ]
  },
  {
   "cell_type": "code",
   "execution_count": 2,
   "metadata": {},
   "outputs": [],
   "source": [
    "test_path = Path('.') / 'data' / 'test_ngff_image.zarr/0' \n",
    "patch_size = (64, 64)"
   ]
  },
  {
   "cell_type": "code",
   "execution_count": 3,
   "metadata": {},
   "outputs": [],
   "source": [
    "def read_zarr(file_path: Path) -> Union[zarr.core.Array, zarr.storage.DirectoryStore, zarr.hierarchy.Group]:\n",
    "    \"\"\"Reads a file and returns a pointer.\n",
    "\n",
    "    Parameters\n",
    "    ----------\n",
    "    file_path : Path\n",
    "        pathlib.Path object containing a path to a file\n",
    "\n",
    "    Returns\n",
    "    -------\n",
    "    np.ndarray\n",
    "        Pointer to zarr storage\n",
    "\n",
    "    Raises\n",
    "    ------\n",
    "    ValueError, OSError\n",
    "        if a file is not a valid tiff or damaged\n",
    "    ValueError\n",
    "        if data dimensions are not 2, 3 or 4\n",
    "    ValueError\n",
    "        if axes parameter from config is not consistent with data dimensions\n",
    "    \"\"\"\n",
    "    zarr_source = zarr.open(Path(file_path), mode=\"r\")\n",
    "    \n",
    "    \"\"\"\n",
    "    if isinstance(zarr_source, zarr.hierarchy.Group):\n",
    "        raise NotImplementedError(\"Group not supported yet\")\n",
    "\n",
    "    elif isinstance(zarr_source, zarr.storage.DirectoryStore):\n",
    "        raise NotImplementedError(\"DirectoryStore not supported yet\")\n",
    "\n",
    "    elif isinstance(zarr_source, zarr.core.Array):\n",
    "        # array should be of shape (S, (C), (Z), Y, X), iterating over S ?\n",
    "        # TODO what if array is not of that shape and/or chunks aren't defined and\n",
    "        if zarr_source.dtype == \"O\":\n",
    "            raise NotImplementedError(\"Object type not supported yet\")\n",
    "        else:\n",
    "            array = zarr_source\n",
    "    else:\n",
    "        raise ValueError(f\"Unsupported zarr object type {type(zarr_source)}\")\n",
    "\n",
    "    # TODO how to fix dimensions? Or just raise error?\n",
    "    # sanity check on dimensions\n",
    "    if len(array.shape) < 2 or len(array.shape) > 4:\n",
    "        raise ValueError(\n",
    "            f\"Incorrect data dimensions. Must be 2, 3 or 4 (got {array.shape}).\"\n",
    "        )\n",
    "    \"\"\"\n",
    "    return zarr_source"
   ]
  },
  {
   "cell_type": "code",
   "execution_count": 64,
   "metadata": {},
   "outputs": [],
   "source": [
    "def extract_patches_random(arr: np.ndarray,\n",
    "                           patch_size: Union[List[int], Tuple[int]]\n",
    ") -> np.ndarray:\n",
    "    \"\"\"\n",
    "    Generate patches from an array in a random manner.\n",
    "\n",
    "    The method calculates how many patches the image can be divided into and then\n",
    "    extracts an equal number of random patches.\n",
    "\n",
    "    Parameters\n",
    "    ----------\n",
    "    arr : np.ndarray\n",
    "        Input image array.\n",
    "    patch_size : Tuple[int]\n",
    "        Patch sizes in each dimension.\n",
    "\n",
    "    Yields\n",
    "    ------\n",
    "    Generator[np.ndarray, None, None]\n",
    "        Generator of patches.\n",
    "    \"\"\"\n",
    "\n",
    "    rng = np.random.default_rng()\n",
    "\n",
    "    n_patches_per_slice = np.ceil(np.prod(arr.shape[1:]) / np.prod(patch_size)).astype(\n",
    "        int\n",
    "    )\n",
    "    crop_coords = rng.integers(\n",
    "        0,\n",
    "        np.array(arr.shape[-len(patch_size):]) - np.array(patch_size),\n",
    "        size=(arr.shape[0], n_patches_per_slice, len(patch_size)),\n",
    "    )\n",
    "    slice_idx  = np.random.randint(0, arr.shape[0])\n",
    "    patch_idx = np.random.randint(0, crop_coords.shape[1])\n",
    "    #sample = [slice_idx]\n",
    "\n",
    "    patch = arr[\n",
    "        crop_coords[slice_idx, patch_idx, 0]: crop_coords[\n",
    "                                                    slice_idx, patch_idx, 0\n",
    "                                                ]\n",
    "                                                + patch_size[0],\n",
    "        crop_coords[slice_idx, patch_idx, 1]: crop_coords[\n",
    "                                                    slice_idx, patch_idx, 1\n",
    "                                                ]\n",
    "                                                + patch_size[1],\n",
    "        ]\n",
    "    return patch\n",
    "\n",
    "def _generate_patches(sample, to_load_at_same_time=10):\n",
    "    patches = extract_patches_random(\n",
    "        sample,\n",
    "        patch_size,\n",
    "    )\n",
    "\n",
    "    list_of_patches = []\n",
    "    \n",
    "    for idx, patch in enumerate(patches):\n",
    "        \n",
    "        list_of_patches.append(patch)\n",
    "        if idx > to_load_at_same_time:\n",
    "            break\n",
    "    \n",
    "    return list_of_patches"
   ]
  },
  {
   "cell_type": "code",
   "execution_count": 45,
   "metadata": {},
   "outputs": [
    {
     "name": "stderr",
     "output_type": "stream",
     "text": [
      "c:\\Users\\johamuel\\AppData\\Local\\mambaforge\\envs\\pytorch-2d-unet\\lib\\site-packages\\distributed\\node.py:182: UserWarning: Port 8787 is already in use.\n",
      "Perhaps you already have a cluster running?\n",
      "Hosting the HTTP server on port 52821 instead\n",
      "  warnings.warn(\n"
     ]
    }
   ],
   "source": [
    "client = Client()"
   ]
  },
  {
   "cell_type": "code",
   "execution_count": 46,
   "metadata": {},
   "outputs": [
    {
     "data": {
      "text/plain": [
       "'http://127.0.0.1:52821/status'"
      ]
     },
     "execution_count": 46,
     "metadata": {},
     "output_type": "execute_result"
    }
   ],
   "source": [
    "client.dashboard_link"
   ]
  },
  {
   "cell_type": "code",
   "execution_count": 86,
   "metadata": {},
   "outputs": [],
   "source": [
    "class ZarrDataset(IterableDataset):\n",
    "    \"\"\"Dataset to extract patches from a zarr storage.\"\"\"\n",
    "\n",
    "    def __init__(\n",
    "            self,\n",
    "            data_path: Union[str, Path],\n",
    "            patch_extraction_method: str,\n",
    "            patch_size: Optional[Union[List[int], Tuple[int]]] = None,\n",
    "            num_patches: Optional[int] = None,\n",
    "            mean: Optional[float] = None,\n",
    "            std: Optional[float] = None,\n",
    "            patch_transform: Optional[Callable] = None,\n",
    "            patch_transform_params: Optional[Dict] = None,\n",
    "            to_load_at_same_time: int = 10,\n",
    "            loads_per_epoch: int = 2,\n",
    "    ) -> None:\n",
    "        self.data_path = Path(data_path)\n",
    "        self.patch_extraction_method = patch_extraction_method\n",
    "        self.patch_size = patch_size\n",
    "        self.num_patches = num_patches\n",
    "        self.mean = mean\n",
    "        self.std = std\n",
    "        self.patch_transform = patch_transform\n",
    "        self.patch_transform_params = patch_transform_params\n",
    "        self.to_load_at_same_time = to_load_at_same_time\n",
    "        self.loads_per_epoch = loads_per_epoch\n",
    "\n",
    "        self.sample = read_zarr(self.data_path)\n",
    "\n",
    "    def __iter__(self):\n",
    "        \"\"\"\n",
    "        Iterate over data source and yield single patch.\n",
    "\n",
    "        Yields\n",
    "        ------\n",
    "        np.ndarray\n",
    "        \"\"\"\n",
    "        worker_info = get_worker_info()\n",
    "        worker_id = worker_info.id if worker_info is not None else 0\n",
    "        num_workers = worker_info.num_workers if worker_info is not None else 1\n",
    "        \n",
    "        future = client.submit(_generate_patches, self.sample, self.to_load_at_same_time)\n",
    "\n",
    "        for _ in range(self.loads_per_epoch):\n",
    "            data_in_memory = future.result()\n",
    "            future = client.submit(_generate_patches, self.sample, self.to_load_at_same_time)\n",
    "\n",
    "            for j in range(len(data_in_memory)):\n",
    "                yield data_in_memory\n"
   ]
  },
  {
   "cell_type": "code",
   "execution_count": 87,
   "metadata": {},
   "outputs": [],
   "source": [
    "dataset = ZarrDataset(\n",
    "    data_path=test_path,\n",
    "    patch_extraction_method='random',\n",
    "    patch_size=patch_size,\n",
    ")"
   ]
  },
  {
   "cell_type": "code",
   "execution_count": 88,
   "metadata": {},
   "outputs": [
    {
     "name": "stdout",
     "output_type": "stream",
     "text": [
      "12\n",
      "12\n",
      "12\n",
      "12\n",
      "12\n",
      "12\n",
      "12\n",
      "12\n",
      "12\n",
      "12\n",
      "12\n",
      "12\n"
     ]
    }
   ],
   "source": [
    "limit = 100\n",
    "for x in dataset:\n",
    "    print(len(x))\n",
    "    limit -= 1\n",
    "    if limit == 0:\n",
    "        break"
   ]
  },
  {
   "cell_type": "code",
   "execution_count": null,
   "metadata": {},
   "outputs": [],
   "source": []
  }
 ],
 "metadata": {
  "kernelspec": {
   "display_name": "Python 3.9.13 ('HDNn')",
   "language": "python",
   "name": "python3"
  },
  "language_info": {
   "codemirror_mode": {
    "name": "ipython",
    "version": 3
   },
   "file_extension": ".py",
   "mimetype": "text/x-python",
   "name": "python",
   "nbconvert_exporter": "python",
   "pygments_lexer": "ipython3",
   "version": "3.9.16"
  },
  "vscode": {
   "interpreter": {
    "hash": "faf8b084d52efbff00ddf863c4fb0ca7a3b023f9f18590a5b65c31dc02d793e2"
   }
  }
 },
 "nbformat": 4,
 "nbformat_minor": 2
}
